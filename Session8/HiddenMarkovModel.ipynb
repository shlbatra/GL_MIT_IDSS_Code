{
 "cells": [
  {
   "cell_type": "code",
   "execution_count": 1,
   "id": "56e17dbf",
   "metadata": {},
   "outputs": [],
   "source": [
    "def viterbi(obs, states, start_p, trans_p, emit_p):\n",
    "    V = [{}]\n",
    "\n",
    "    for st in states:\n",
    "        V[0][st] = {\"prob\": start_p[st] * emit_p[st][obs[0]], \"prev\": None}\n",
    "\n",
    "    # Run Viterbi when t > 0\n",
    "\n",
    "    for t in range(1, len(obs)):\n",
    "        V.append({})\n",
    "\n",
    "        for st in states:\n",
    "            max_tr_prob = max(V[t-1][prev_st][\"prob\"]*trans_p[prev_st][st] for prev_st in states)\n",
    "\n",
    "            for prev_st in states:\n",
    "                if V[t-1][prev_st][\"prob\"] * trans_p[prev_st][st] == max_tr_prob:\n",
    "                    max_prob = max_tr_prob * emit_p[st][obs[t]]\n",
    "                    V[t][st] = {\"prob\": max_prob, \"prev\": prev_st}\n",
    "                    break\n",
    "\n",
    "    for line in dptable(V):\n",
    "        print(line)\n",
    "\n",
    "    opt = []\n",
    "\n",
    "    # The highest probability\n",
    "    max_prob = max(value[\"prob\"] for value in V[-1].values())\n",
    "    previous = None\n",
    "\n",
    "    # Get most probable state and its backtrack\n",
    "    for st, data in V[-1].items():\n",
    "        if data[\"prob\"] == max_prob:\n",
    "            opt.append(st)\n",
    "            previous = st\n",
    "            break\n",
    "\n",
    "    # Follow the backtrack till the first observation\n",
    "    for t in range(len(V) - 2, -1, -1):\n",
    "        opt.insert(0, V[t + 1][previous][\"prev\"])\n",
    "        previous = V[t + 1][previous][\"prev\"]\n",
    "\n",
    "    print('The steps of states are ' + ' '.join(opt) + ' with highest probability of %s' % max_prob)\n",
    "\n",
    "\n",
    "def dptable(V):\n",
    "    # Print a table of steps from dictionary\n",
    "    yield \" \".join((\"%12d\" % i) for i in range(len(V)))\n",
    "    \n",
    "    for state in V[0]:\n",
    "        yield \"%.7s: \" % state + \" \".join(\"%.7s\" % (\"%f\" % v[state][\"prob\"]) for v in V)\n",
    "\n",
    "#The function viterbi takes the following arguments: obs is the sequence of observations, e.g. ['normal', 'cold', 'dizzy']; states is the set of hidden states; start_p is the start probability; trans_p are the transition probabilities; and emit_p are the emission probabilities. For simplicity of code, we assume that the observation sequence obs is non-empty and that trans_p[i][j] and emit_p[i][j] is defined for all states i,j.\n",
    "\n"
   ]
  },
  {
   "cell_type": "code",
   "execution_count": 33,
   "id": "d40e1855",
   "metadata": {},
   "outputs": [],
   "source": [
    "#In the running example, the forward/Viterbi algorithm is used as follows:\n",
    "#Observed values\n",
    "obs = ('green', 'blue', 'red')\n"
   ]
  },
  {
   "cell_type": "code",
   "execution_count": 34,
   "id": "3c5c10a7",
   "metadata": {},
   "outputs": [
    {
     "data": {
      "text/plain": [
       "{'Happy': 0.5, 'Sad': 0.5}"
      ]
     },
     "execution_count": 34,
     "metadata": {},
     "output_type": "execute_result"
    }
   ],
   "source": [
    "#Hidden States\n",
    "states = ('Happy','Sad')\n",
    "start_p = {'Happy': 0.5, 'Sad': 0.5}\n",
    "start_p"
   ]
  },
  {
   "cell_type": "code",
   "execution_count": 35,
   "id": "7c37f1f6",
   "metadata": {},
   "outputs": [
    {
     "data": {
      "text/plain": [
       "{'Happy': {'Happy': 0.7, 'Sad': 0.3}, 'Sad': {'Happy': 0.5, 'Sad': 0.5}}"
      ]
     },
     "execution_count": 35,
     "metadata": {},
     "output_type": "execute_result"
    }
   ],
   "source": [
    "#Transition Probability Matrix\n",
    "trans_p = {\n",
    "   'Happy' : {'Happy': 0.7, 'Sad': 0.3},\n",
    "   'Sad' : {'Happy': 0.5, 'Sad': 0.5}\n",
    "   }\n",
    "trans_p"
   ]
  },
  {
   "cell_type": "code",
   "execution_count": 36,
   "id": "9ccf7049",
   "metadata": {},
   "outputs": [
    {
     "data": {
      "text/plain": [
       "{'Happy': {'red': 0.8, 'green': 0.1, 'blue': 0.1},\n",
       " 'Sad': {'red': 0.2, 'green': 0.3, 'blue': 0.5}}"
      ]
     },
     "execution_count": 36,
     "metadata": {},
     "output_type": "execute_result"
    }
   ],
   "source": [
    "#Emission Probability Matrix\n",
    "emit_p = {\n",
    "   'Happy' : {'red': 0.8, 'green': 0.1, 'blue': 0.1},\n",
    "   'Sad' : {'red': 0.2, 'green': 0.3, 'blue': 0.5}\n",
    "   }\n",
    "emit_p"
   ]
  },
  {
   "cell_type": "code",
   "execution_count": 37,
   "id": "2b7f4da7",
   "metadata": {},
   "outputs": [
    {
     "name": "stdout",
     "output_type": "stream",
     "text": [
      "           0            1            2\n",
      "Happy: 0.05000 0.00750 0.01500\n",
      "Sad: 0.15000 0.03750 0.00375\n",
      "The steps of states are Sad Sad Happy with highest probability of 0.015\n"
     ]
    }
   ],
   "source": [
    "#HMM to determine the sequence of hidden states corresponding to observed sequence\n",
    "viterbi(obs,states,start_p,trans_p,emit_p)"
   ]
  },
  {
   "cell_type": "code",
   "execution_count": null,
   "id": "aaa06e25",
   "metadata": {},
   "outputs": [],
   "source": []
  },
  {
   "cell_type": "code",
   "execution_count": null,
   "id": "2c9cbe3d",
   "metadata": {},
   "outputs": [],
   "source": []
  }
 ],
 "metadata": {
  "kernelspec": {
   "display_name": "Python 3 (ipykernel)",
   "language": "python",
   "name": "python3"
  },
  "language_info": {
   "codemirror_mode": {
    "name": "ipython",
    "version": 3
   },
   "file_extension": ".py",
   "mimetype": "text/x-python",
   "name": "python",
   "nbconvert_exporter": "python",
   "pygments_lexer": "ipython3",
   "version": "3.9.7"
  }
 },
 "nbformat": 4,
 "nbformat_minor": 5
}
