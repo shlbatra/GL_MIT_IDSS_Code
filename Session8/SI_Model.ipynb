{
 "cells": [
  {
   "cell_type": "code",
   "execution_count": 10,
   "id": "8bc35ea6",
   "metadata": {},
   "outputs": [],
   "source": [
    "import matplotlib.pyplot as plt\n",
    "\n",
    "N = 1000\n",
    "S = N - 1  #(Start 999)\n",
    "I = 1\n",
    "beta = 0.6 #average number of contacts per person per time\n",
    "\n",
    "sus = [] # infected compartment\n",
    "inf = [] # susceptible compartment\n",
    "prob = [] # probability of infection at time t\n",
    "\n",
    "def infection(S, I, N):\n",
    "    t = 0\n",
    "    while (t < 100):\n",
    "        S, I = S - beta * ((S * I / N)), I + beta * ((S * I) / N) # Change in Susceptible and Infected at every time step\n",
    "        p = beta * (I / N) \n",
    "\n",
    "        sus.append(S)\n",
    "        inf.append(I)\n",
    "        prob.append(p)\n",
    "        t = t + 1"
   ]
  },
  {
   "cell_type": "code",
   "execution_count": 11,
   "id": "07d79d1d",
   "metadata": {},
   "outputs": [],
   "source": [
    "infection(S, I, N)"
   ]
  },
  {
   "cell_type": "code",
   "execution_count": 12,
   "id": "ca3f2187",
   "metadata": {},
   "outputs": [
    {
     "name": "stderr",
     "output_type": "stream",
     "text": [
      "C:\\Users\\AMISH_~1\\AppData\\Local\\Temp/ipykernel_25616/1666167445.py:19: UserWarning: FixedFormatter should only be used together with FixedLocator\n",
      "  ax.set_yticklabels(['{:3.2f}%'.format(x*100) for x in vals])\n"
     ]
    },
    {
     "data": {
      "image/png": "[encoded data removed]",
      "text/plain": [
       "<Figure size 432x288 with 2 Axes>"
      ]
     },
     "metadata": {
      "needs_background": "light"
     },
     "output_type": "display_data"
    }
   ],
   "source": [
    "figure = plt.figure()\n",
    "\n",
    "figure.add_subplot(211)\n",
    "inf_line, =plt.plot(inf, label='I(t)')\n",
    "\n",
    "sus_line, = plt.plot(sus, label='S(t)')\n",
    "plt.legend(handles=[inf_line, sus_line])\n",
    "\n",
    "plt.ticklabel_format(style='sci', axis='y', scilimits=(0,0)) # use scientific notation\n",
    "\n",
    "ax = figure.add_subplot(212)\n",
    "prob_line = plt.plot(prob, label='p(t)')\n",
    "plt.legend(handles=prob_line)\n",
    "\n",
    "type(ax)  # matplotlib.axes._subplots.AxesSubplot\n",
    "\n",
    "# manipulate\n",
    "vals = ax.get_yticks()\n",
    "ax.set_yticklabels(['{:3.2f}%'.format(x*100) for x in vals])\n",
    "\n",
    "plt.xlabel('T')\n",
    "plt.ylabel('p')\n",
    "\n",
    "plt.show()"
   ]
  },
  {
   "cell_type": "code",
   "execution_count": null,
   "id": "5e8f2428",
   "metadata": {},
   "outputs": [],
   "source": []
  }
 ],
 "metadata": {
  "kernelspec": {
   "display_name": "Python 3 (ipykernel)",
   "language": "python",
   "name": "python3"
  },
  "language_info": {
   "codemirror_mode": {
    "name": "ipython",
    "version": 3
   },
   "file_extension": ".py",
   "mimetype": "text/x-python",
   "name": "python",
   "nbconvert_exporter": "python",
   "pygments_lexer": "ipython3",
   "version": "3.9.7"
  }
 },
 "nbformat": 4,
 "nbformat_minor": 5
}
