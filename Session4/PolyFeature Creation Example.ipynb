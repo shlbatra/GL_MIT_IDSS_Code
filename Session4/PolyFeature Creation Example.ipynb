{
 "cells": [
  {
   "cell_type": "code",
   "execution_count": 5,
   "id": "2dc0e5ee",
   "metadata": {},
   "outputs": [
    {
     "name": "stdout",
     "output_type": "stream",
     "text": [
      "[[2 3]\n",
      " [4 5]\n",
      " [6 7]]\n"
     ]
    }
   ],
   "source": [
    "#Polynomial Feature Creation Example\n",
    "from numpy import asarray\n",
    "from sklearn.preprocessing import PolynomialFeatures\n",
    "# define the dataset\n",
    "data = asarray([[2,3],[4,5],[6,7]])\n",
    "print(data)"
   ]
  },
  {
   "cell_type": "code",
   "execution_count": 6,
   "id": "5b2e2849",
   "metadata": {},
   "outputs": [
    {
     "name": "stdout",
     "output_type": "stream",
     "text": [
      "[[ 1.  2.  3.  4.  6.  9.]\n",
      " [ 1.  4.  5. 16. 20. 25.]\n",
      " [ 1.  6.  7. 36. 42. 49.]]\n"
     ]
    }
   ],
   "source": [
    "# perform a polynomial features transform of the dataset\n",
    "trans = PolynomialFeatures(degree=2)\n",
    "data = trans.fit_transform(data)\n",
    "print(data)"
   ]
  },
  {
   "cell_type": "code",
   "execution_count": 9,
   "id": "878a0851",
   "metadata": {},
   "outputs": [],
   "source": [
    "data = asarray([[2,3],[4,5],[6,7]])"
   ]
  },
  {
   "cell_type": "code",
   "execution_count": 10,
   "id": "efdd339a",
   "metadata": {},
   "outputs": [
    {
     "name": "stdout",
     "output_type": "stream",
     "text": [
      "[[ 2.  3.  6.]\n",
      " [ 4.  5. 20.]\n",
      " [ 6.  7. 42.]]\n"
     ]
    }
   ],
   "source": [
    "# perform a polynomial features transform of the dataset with only interaction terms\n",
    "trans = PolynomialFeatures(degree=2,interaction_only=True,include_bias=False)\n",
    "data = trans.fit_transform(data)\n",
    "print(data)"
   ]
  }
 ],
 "metadata": {
  "kernelspec": {
   "display_name": "Python 3 (ipykernel)",
   "language": "python",
   "name": "python3"
  },
  "language_info": {
   "codemirror_mode": {
    "name": "ipython",
    "version": 3
   },
   "file_extension": ".py",
   "mimetype": "text/x-python",
   "name": "python",
   "nbconvert_exporter": "python",
   "pygments_lexer": "ipython3",
   "version": "3.9.7"
  }
 },
 "nbformat": 4,
 "nbformat_minor": 5
}
