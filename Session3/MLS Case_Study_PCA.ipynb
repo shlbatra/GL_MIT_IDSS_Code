{
 "cells": [
  {
   "cell_type": "markdown",
   "metadata": {},
   "source": [
    "### Calculate Eigen Vectors & Eigen Values for a Matrix"
   ]
  },
  {
   "cell_type": "code",
   "execution_count": 51,
   "metadata": {},
   "outputs": [
    {
     "data": {
      "text/plain": [
       "array([[ 0,  1],\n",
       "       [-2, -3]])"
      ]
     },
     "execution_count": 51,
     "metadata": {},
     "output_type": "execute_result"
    }
   ],
   "source": [
    "import numpy as np\n",
    "\n",
    "# a 2x2 matrix\n",
    "A = np.array([[0,1],[-2,-3]])\n",
    "A\n",
    "\n",
    "# Derivation of Eigen Value and Eigen Vectors\n",
    "# (A * v - lambda * I * v = 0)\n",
    "# (A  - lambda * I) * v = 0\n",
    "# Ass. (A  - lambda * I) is a non invertible square matrix \n",
    "# => Det(A  - lambda * I) = 0\n",
    "# Solve the above equation to first get Eigen Value lambda\n",
    "# & then use equation A * v = lambda * v to get Eigen Vector v\n"
   ]
  },
  {
   "cell_type": "code",
   "execution_count": 52,
   "metadata": {},
   "outputs": [],
   "source": [
    "# find eigenvalues and eigenvectors\n",
    "vals, vecs = np.linalg.eig(A)"
   ]
  },
  {
   "cell_type": "code",
   "execution_count": 53,
   "metadata": {},
   "outputs": [
    {
     "name": "stdout",
     "output_type": "stream",
     "text": [
      "Eigenvector: [ 0.70710678 -0.70710678] , Eigenvalue: -1.0\n",
      "Eigenvector: [-0.4472136   0.89442719] , Eigenvalue: -2.0\n"
     ]
    }
   ],
   "source": [
    "# print results\n",
    "for i, value in enumerate(vals):\n",
    "    print(\"Eigenvector:\", vecs[:,i], \", Eigenvalue:\", value)"
   ]
  },
  {
   "cell_type": "code",
   "execution_count": 69,
   "metadata": {},
   "outputs": [
    {
     "data": {
      "text/plain": [
       "array([ 0.70710678, -0.70710678])"
      ]
     },
     "execution_count": 69,
     "metadata": {},
     "output_type": "execute_result"
    }
   ],
   "source": [
    "#First Eigen Vector\n",
    "vecs[:,0]"
   ]
  },
  {
   "cell_type": "code",
   "execution_count": 73,
   "metadata": {},
   "outputs": [
    {
     "data": {
      "text/plain": [
       "-1.0"
      ]
     },
     "execution_count": 73,
     "metadata": {},
     "output_type": "execute_result"
    }
   ],
   "source": [
    "#First Eigen Value\n",
    "vals[0]"
   ]
  },
  {
   "cell_type": "code",
   "execution_count": null,
   "metadata": {},
   "outputs": [],
   "source": [
    "# A * Eigenvector = lambda * EigenVector"
   ]
  },
  {
   "cell_type": "code",
   "execution_count": 67,
   "metadata": {},
   "outputs": [
    {
     "data": {
      "text/plain": [
       "array([[-0.70710678],\n",
       "       [ 0.70710678]])"
      ]
     },
     "execution_count": 67,
     "metadata": {},
     "output_type": "execute_result"
    }
   ],
   "source": [
    "np.dot(A,vecs[:,0].reshape(2,1))"
   ]
  },
  {
   "cell_type": "code",
   "execution_count": 68,
   "metadata": {},
   "outputs": [
    {
     "data": {
      "text/plain": [
       "array([[-0.70710678],\n",
       "       [ 0.70710678]])"
      ]
     },
     "execution_count": 68,
     "metadata": {},
     "output_type": "execute_result"
    }
   ],
   "source": [
    "vals[0] * vecs[:,0].reshape(2,1)"
   ]
  },
  {
   "cell_type": "code",
   "execution_count": 70,
   "metadata": {},
   "outputs": [
    {
     "data": {
      "text/plain": [
       "array([[-0.70710678,  0.89442719],\n",
       "       [ 0.70710678, -1.78885438]])"
      ]
     },
     "execution_count": 70,
     "metadata": {},
     "output_type": "execute_result"
    }
   ],
   "source": [
    "# A * v\n",
    "np.dot(A,vecs)"
   ]
  },
  {
   "cell_type": "code",
   "execution_count": 72,
   "metadata": {},
   "outputs": [
    {
     "data": {
      "text/plain": [
       "array([[-0.70710678,  0.89442719],\n",
       "       [ 0.70710678, -1.78885438]])"
      ]
     },
     "execution_count": 72,
     "metadata": {},
     "output_type": "execute_result"
    }
   ],
   "source": [
    "# lambda * v\n",
    "vals * vecs"
   ]
  },
  {
   "cell_type": "markdown",
   "metadata": {
    "id": "ublbUGGBOPU1"
   },
   "source": [
    "\n",
    "## MLS Case Study PCA\n",
    "-----------------------------\n",
    "## Context:\n",
    "-----------------------------\n",
    "In this case study, we will use the Education dataset which contains information on educational institutes in USA. The data has various attributes about number of applications received, enrollments, faculty education, financial aspects and graduation rate of each institute. \n",
    "\n",
    "-----------------------------\n",
    "## Objective: \n",
    "-----------------------------\n",
    "The objective of this problem is to reduce the number of features by using dimensionality reduction techniques like PCA and extract insights. \n",
    "\n",
    "-----------------------------\n",
    "## Dataset: \n",
    "-----------------------------\n",
    "\n",
    "The Education dataset contains information on various colleges in USA. It contains the following information:\n",
    "\n",
    "- Names: Names of various universities and colleges\n",
    "- Apps: Number of applications received\n",
    "- Accept: Number of applications accepted\n",
    "- Enroll: Number of new students enrolled\n",
    "- Top10perc: Percentage of new students from top 10% of Higher Secondary class\n",
    "- Top25perc: Percentage of new students from top 25% of Higher Secondary class\n",
    "- F_Undergrad: Number of full-time undergraduate students\n",
    "- P_Undergrad: Number of part-time undergraduate students\n",
    "- Outstate: Number of students for whom the particular college or university is out-of-state tuition\n",
    "- Room_Board: Cost of room and board\n",
    "- Books: Estimated book costs for a student\n",
    "- Personal: Estimated personal spending for a student\n",
    "- PhD: Percentage of faculties with a Ph.D.\n",
    "- Terminal: Percentage of faculties with terminal degree\n",
    "- S_F_Ratio: Student/faculty ratio\n",
    "- perc_alumni: Percentage of alumni who donate\n",
    "- Expend: The instructional expenditure per student\n",
    "- Grad_Rate: Graduation rate"
   ]
  },
  {
   "cell_type": "markdown",
   "metadata": {
    "id": "--TM2FWEOPU4"
   },
   "source": [
    "## Importing libraries and overview of the dataset"
   ]
  },
  {
   "cell_type": "code",
   "execution_count": 1,
   "metadata": {
    "id": "WK1odb70OPU4"
   },
   "outputs": [],
   "source": [
    "import pandas as pd\n",
    "import numpy as np\n",
    "import matplotlib.pyplot as plt\n",
    "import seaborn as sns\n",
    "\n",
    "#to scale the data using z-score \n",
    "from sklearn.preprocessing import StandardScaler\n",
    "\n",
    "#Importing PCA and TSNE\n",
    "from sklearn.decomposition import PCA"
   ]
  },
  {
   "cell_type": "markdown",
   "metadata": {
    "id": "vs1MY6T_OPU5"
   },
   "source": [
    "#### Loading data"
   ]
  },
  {
   "cell_type": "code",
   "execution_count": 2,
   "metadata": {
    "id": "d9pyxhRkOPU5"
   },
   "outputs": [],
   "source": [
    "data=pd.read_csv(\"Education_Post_12th_Standard.csv\")"
   ]
  },
  {
   "cell_type": "code",
   "execution_count": 3,
   "metadata": {
    "id": "WXDs3HgqOPU5",
    "outputId": "40bf3d7a-1928-4ccf-d40f-a5a87be09ef9"
   },
   "outputs": [
    {
     "data": {
      "text/html": [
       "<div>\n",
       "<style scoped>\n",
       "    .dataframe tbody tr th:only-of-type {\n",
       "        vertical-align: middle;\n",
       "    }\n",
       "\n",
       "    .dataframe tbody tr th {\n",
       "        vertical-align: top;\n",
       "    }\n",
       "\n",
       "    .dataframe thead th {\n",
       "        text-align: right;\n",
       "    }\n",
       "</style>\n",
       "<table border=\"1\" class=\"dataframe\">\n",
       "  <thead>\n",
       "    <tr style=\"text-align: right;\">\n",
       "      <th></th>\n",
       "      <th>Names</th>\n",
       "      <th>Apps</th>\n",
       "      <th>Accept</th>\n",
       "      <th>Enroll</th>\n",
       "      <th>Top10perc</th>\n",
       "      <th>Top25perc</th>\n",
       "      <th>F_Undergrad</th>\n",
       "      <th>P_Undergrad</th>\n",
       "      <th>Outstate</th>\n",
       "      <th>Room_Board</th>\n",
       "      <th>Books</th>\n",
       "      <th>Personal</th>\n",
       "      <th>PhD</th>\n",
       "      <th>Terminal</th>\n",
       "      <th>S_F_Ratio</th>\n",
       "      <th>perc_alumni</th>\n",
       "      <th>Expend</th>\n",
       "      <th>Grad_Rate</th>\n",
       "    </tr>\n",
       "  </thead>\n",
       "  <tbody>\n",
       "    <tr>\n",
       "      <th>0</th>\n",
       "      <td>Abilene Christian University</td>\n",
       "      <td>1660</td>\n",
       "      <td>1232</td>\n",
       "      <td>721</td>\n",
       "      <td>23</td>\n",
       "      <td>52</td>\n",
       "      <td>2885</td>\n",
       "      <td>537</td>\n",
       "      <td>7440</td>\n",
       "      <td>3300</td>\n",
       "      <td>450</td>\n",
       "      <td>2200</td>\n",
       "      <td>70</td>\n",
       "      <td>78</td>\n",
       "      <td>18.1</td>\n",
       "      <td>12</td>\n",
       "      <td>7041</td>\n",
       "      <td>60</td>\n",
       "    </tr>\n",
       "    <tr>\n",
       "      <th>1</th>\n",
       "      <td>Adelphi University</td>\n",
       "      <td>2186</td>\n",
       "      <td>1924</td>\n",
       "      <td>512</td>\n",
       "      <td>16</td>\n",
       "      <td>29</td>\n",
       "      <td>2683</td>\n",
       "      <td>1227</td>\n",
       "      <td>12280</td>\n",
       "      <td>6450</td>\n",
       "      <td>750</td>\n",
       "      <td>1500</td>\n",
       "      <td>29</td>\n",
       "      <td>30</td>\n",
       "      <td>12.2</td>\n",
       "      <td>16</td>\n",
       "      <td>10527</td>\n",
       "      <td>56</td>\n",
       "    </tr>\n",
       "    <tr>\n",
       "      <th>2</th>\n",
       "      <td>Adrian College</td>\n",
       "      <td>1428</td>\n",
       "      <td>1097</td>\n",
       "      <td>336</td>\n",
       "      <td>22</td>\n",
       "      <td>50</td>\n",
       "      <td>1036</td>\n",
       "      <td>99</td>\n",
       "      <td>11250</td>\n",
       "      <td>3750</td>\n",
       "      <td>400</td>\n",
       "      <td>1165</td>\n",
       "      <td>53</td>\n",
       "      <td>66</td>\n",
       "      <td>12.9</td>\n",
       "      <td>30</td>\n",
       "      <td>8735</td>\n",
       "      <td>54</td>\n",
       "    </tr>\n",
       "    <tr>\n",
       "      <th>3</th>\n",
       "      <td>Agnes Scott College</td>\n",
       "      <td>417</td>\n",
       "      <td>349</td>\n",
       "      <td>137</td>\n",
       "      <td>60</td>\n",
       "      <td>89</td>\n",
       "      <td>510</td>\n",
       "      <td>63</td>\n",
       "      <td>12960</td>\n",
       "      <td>5450</td>\n",
       "      <td>450</td>\n",
       "      <td>875</td>\n",
       "      <td>92</td>\n",
       "      <td>97</td>\n",
       "      <td>7.7</td>\n",
       "      <td>37</td>\n",
       "      <td>19016</td>\n",
       "      <td>59</td>\n",
       "    </tr>\n",
       "    <tr>\n",
       "      <th>4</th>\n",
       "      <td>Alaska Pacific University</td>\n",
       "      <td>193</td>\n",
       "      <td>146</td>\n",
       "      <td>55</td>\n",
       "      <td>16</td>\n",
       "      <td>44</td>\n",
       "      <td>249</td>\n",
       "      <td>869</td>\n",
       "      <td>7560</td>\n",
       "      <td>4120</td>\n",
       "      <td>800</td>\n",
       "      <td>1500</td>\n",
       "      <td>76</td>\n",
       "      <td>72</td>\n",
       "      <td>11.9</td>\n",
       "      <td>2</td>\n",
       "      <td>10922</td>\n",
       "      <td>15</td>\n",
       "    </tr>\n",
       "  </tbody>\n",
       "</table>\n",
       "</div>"
      ],
      "text/plain": [
       "                          Names  Apps  Accept  Enroll  Top10perc  Top25perc  \\\n",
       "0  Abilene Christian University  1660    1232     721         23         52   \n",
       "1            Adelphi University  2186    1924     512         16         29   \n",
       "2                Adrian College  1428    1097     336         22         50   \n",
       "3           Agnes Scott College   417     349     137         60         89   \n",
       "4     Alaska Pacific University   193     146      55         16         44   \n",
       "\n",
       "   F_Undergrad  P_Undergrad  Outstate  Room_Board  Books  Personal  PhD  \\\n",
       "0         2885          537      7440        3300    450      2200   70   \n",
       "1         2683         1227     12280        6450    750      1500   29   \n",
       "2         1036           99     11250        3750    400      1165   53   \n",
       "3          510           63     12960        5450    450       875   92   \n",
       "4          249          869      7560        4120    800      1500   76   \n",
       "\n",
       "   Terminal  S_F_Ratio  perc_alumni  Expend  Grad_Rate  \n",
       "0        78       18.1           12    7041         60  \n",
       "1        30       12.2           16   10527         56  \n",
       "2        66       12.9           30    8735         54  \n",
       "3        97        7.7           37   19016         59  \n",
       "4        72       11.9            2   10922         15  "
      ]
     },
     "execution_count": 3,
     "metadata": {},
     "output_type": "execute_result"
    }
   ],
   "source": [
    "data.head()"
   ]
  },
  {
   "cell_type": "markdown",
   "metadata": {
    "id": "CsHzFoepOPU6"
   },
   "source": [
    "#### Check the info of the data"
   ]
  },
  {
   "cell_type": "code",
   "execution_count": 4,
   "metadata": {
    "id": "RQip-RQ8OPU7",
    "outputId": "20acdb19-5a30-4c5d-b5e9-fa7234d66eea"
   },
   "outputs": [
    {
     "name": "stdout",
     "output_type": "stream",
     "text": [
      "<class 'pandas.core.frame.DataFrame'>\n",
      "RangeIndex: 777 entries, 0 to 776\n",
      "Data columns (total 18 columns):\n",
      " #   Column       Non-Null Count  Dtype  \n",
      "---  ------       --------------  -----  \n",
      " 0   Names        777 non-null    object \n",
      " 1   Apps         777 non-null    int64  \n",
      " 2   Accept       777 non-null    int64  \n",
      " 3   Enroll       777 non-null    int64  \n",
      " 4   Top10perc    777 non-null    int64  \n",
      " 5   Top25perc    777 non-null    int64  \n",
      " 6   F_Undergrad  777 non-null    int64  \n",
      " 7   P_Undergrad  777 non-null    int64  \n",
      " 8   Outstate     777 non-null    int64  \n",
      " 9   Room_Board   777 non-null    int64  \n",
      " 10  Books        777 non-null    int64  \n",
      " 11  Personal     777 non-null    int64  \n",
      " 12  PhD          777 non-null    int64  \n",
      " 13  Terminal     777 non-null    int64  \n",
      " 14  S_F_Ratio    777 non-null    float64\n",
      " 15  perc_alumni  777 non-null    int64  \n",
      " 16  Expend       777 non-null    int64  \n",
      " 17  Grad_Rate    777 non-null    int64  \n",
      "dtypes: float64(1), int64(16), object(1)\n",
      "memory usage: 109.4+ KB\n"
     ]
    }
   ],
   "source": [
    "data.info()"
   ]
  },
  {
   "cell_type": "markdown",
   "metadata": {
    "id": "kpkFQ3NoOPU7"
   },
   "source": [
    "**Observations:**\n",
    "\n",
    "- There are 777 observations and 18 columns in the dataset.\n",
    "- All columns have 777 non-null values i.e. there are no missing values.\n",
    "- All columns are numeric except the Names column which is of object data type."
   ]
  },
  {
   "cell_type": "markdown",
   "metadata": {
    "id": "EjyVmIjLOPU7"
   },
   "source": [
    "## Data Preprocessing and Exploratory Data Analysis"
   ]
  },
  {
   "cell_type": "markdown",
   "metadata": {
    "id": "-5j6cuToOPU8"
   },
   "source": [
    "#### Check if all the college names are unique"
   ]
  },
  {
   "cell_type": "code",
   "execution_count": 5,
   "metadata": {
    "id": "4Xw18kSVOPU8",
    "outputId": "6e2c208b-6db2-4aa0-b549-52ffab26aeec"
   },
   "outputs": [
    {
     "data": {
      "text/plain": [
       "777"
      ]
     },
     "execution_count": 5,
     "metadata": {},
     "output_type": "execute_result"
    }
   ],
   "source": [
    "data.Names.nunique()"
   ]
  },
  {
   "cell_type": "markdown",
   "metadata": {
    "id": "zEbywvWQOPU8"
   },
   "source": [
    "**Observations:**\n",
    "\n",
    "- All college names are unique\n",
    "- As all entries are unique, it would not add value to our analysis. We can drop the Names column. "
   ]
  },
  {
   "cell_type": "code",
   "execution_count": 6,
   "metadata": {
    "id": "4mFcBCXbOPU9"
   },
   "outputs": [],
   "source": [
    "#Dropping Names column \n",
    "data.drop(columns=\"Names\", inplace=True)"
   ]
  },
  {
   "cell_type": "markdown",
   "metadata": {
    "id": "qj_i7NdvOPU9"
   },
   "source": [
    "#### Summary Statistics"
   ]
  },
  {
   "cell_type": "code",
   "execution_count": 7,
   "metadata": {
    "id": "dMFv9DOCOPU9",
    "outputId": "7e484d8f-d3d8-47a3-aad5-6d807b4d07e6"
   },
   "outputs": [
    {
     "data": {
      "text/html": [
       "<div>\n",
       "<style scoped>\n",
       "    .dataframe tbody tr th:only-of-type {\n",
       "        vertical-align: middle;\n",
       "    }\n",
       "\n",
       "    .dataframe tbody tr th {\n",
       "        vertical-align: top;\n",
       "    }\n",
       "\n",
       "    .dataframe thead th {\n",
       "        text-align: right;\n",
       "    }\n",
       "</style>\n",
       "<table border=\"1\" class=\"dataframe\">\n",
       "  <thead>\n",
       "    <tr style=\"text-align: right;\">\n",
       "      <th></th>\n",
       "      <th>count</th>\n",
       "      <th>mean</th>\n",
       "      <th>std</th>\n",
       "      <th>min</th>\n",
       "      <th>25%</th>\n",
       "      <th>50%</th>\n",
       "      <th>75%</th>\n",
       "      <th>max</th>\n",
       "    </tr>\n",
       "  </thead>\n",
       "  <tbody>\n",
       "    <tr>\n",
       "      <th>Apps</th>\n",
       "      <td>777.0</td>\n",
       "      <td>3001.638353</td>\n",
       "      <td>3870.201484</td>\n",
       "      <td>81.0</td>\n",
       "      <td>776.0</td>\n",
       "      <td>1558.0</td>\n",
       "      <td>3624.0</td>\n",
       "      <td>48094.0</td>\n",
       "    </tr>\n",
       "    <tr>\n",
       "      <th>Accept</th>\n",
       "      <td>777.0</td>\n",
       "      <td>2018.804376</td>\n",
       "      <td>2451.113971</td>\n",
       "      <td>72.0</td>\n",
       "      <td>604.0</td>\n",
       "      <td>1110.0</td>\n",
       "      <td>2424.0</td>\n",
       "      <td>26330.0</td>\n",
       "    </tr>\n",
       "    <tr>\n",
       "      <th>Enroll</th>\n",
       "      <td>777.0</td>\n",
       "      <td>779.972973</td>\n",
       "      <td>929.176190</td>\n",
       "      <td>35.0</td>\n",
       "      <td>242.0</td>\n",
       "      <td>434.0</td>\n",
       "      <td>902.0</td>\n",
       "      <td>6392.0</td>\n",
       "    </tr>\n",
       "    <tr>\n",
       "      <th>Top10perc</th>\n",
       "      <td>777.0</td>\n",
       "      <td>27.558559</td>\n",
       "      <td>17.640364</td>\n",
       "      <td>1.0</td>\n",
       "      <td>15.0</td>\n",
       "      <td>23.0</td>\n",
       "      <td>35.0</td>\n",
       "      <td>96.0</td>\n",
       "    </tr>\n",
       "    <tr>\n",
       "      <th>Top25perc</th>\n",
       "      <td>777.0</td>\n",
       "      <td>55.796654</td>\n",
       "      <td>19.804778</td>\n",
       "      <td>9.0</td>\n",
       "      <td>41.0</td>\n",
       "      <td>54.0</td>\n",
       "      <td>69.0</td>\n",
       "      <td>100.0</td>\n",
       "    </tr>\n",
       "    <tr>\n",
       "      <th>F_Undergrad</th>\n",
       "      <td>777.0</td>\n",
       "      <td>3699.907336</td>\n",
       "      <td>4850.420531</td>\n",
       "      <td>139.0</td>\n",
       "      <td>992.0</td>\n",
       "      <td>1707.0</td>\n",
       "      <td>4005.0</td>\n",
       "      <td>31643.0</td>\n",
       "    </tr>\n",
       "    <tr>\n",
       "      <th>P_Undergrad</th>\n",
       "      <td>777.0</td>\n",
       "      <td>855.298584</td>\n",
       "      <td>1522.431887</td>\n",
       "      <td>1.0</td>\n",
       "      <td>95.0</td>\n",
       "      <td>353.0</td>\n",
       "      <td>967.0</td>\n",
       "      <td>21836.0</td>\n",
       "    </tr>\n",
       "    <tr>\n",
       "      <th>Outstate</th>\n",
       "      <td>777.0</td>\n",
       "      <td>10440.669241</td>\n",
       "      <td>4023.016484</td>\n",
       "      <td>2340.0</td>\n",
       "      <td>7320.0</td>\n",
       "      <td>9990.0</td>\n",
       "      <td>12925.0</td>\n",
       "      <td>21700.0</td>\n",
       "    </tr>\n",
       "    <tr>\n",
       "      <th>Room_Board</th>\n",
       "      <td>777.0</td>\n",
       "      <td>4357.526384</td>\n",
       "      <td>1096.696416</td>\n",
       "      <td>1780.0</td>\n",
       "      <td>3597.0</td>\n",
       "      <td>4200.0</td>\n",
       "      <td>5050.0</td>\n",
       "      <td>8124.0</td>\n",
       "    </tr>\n",
       "    <tr>\n",
       "      <th>Books</th>\n",
       "      <td>777.0</td>\n",
       "      <td>549.380952</td>\n",
       "      <td>165.105360</td>\n",
       "      <td>96.0</td>\n",
       "      <td>470.0</td>\n",
       "      <td>500.0</td>\n",
       "      <td>600.0</td>\n",
       "      <td>2340.0</td>\n",
       "    </tr>\n",
       "    <tr>\n",
       "      <th>Personal</th>\n",
       "      <td>777.0</td>\n",
       "      <td>1340.642214</td>\n",
       "      <td>677.071454</td>\n",
       "      <td>250.0</td>\n",
       "      <td>850.0</td>\n",
       "      <td>1200.0</td>\n",
       "      <td>1700.0</td>\n",
       "      <td>6800.0</td>\n",
       "    </tr>\n",
       "    <tr>\n",
       "      <th>PhD</th>\n",
       "      <td>777.0</td>\n",
       "      <td>72.660232</td>\n",
       "      <td>16.328155</td>\n",
       "      <td>8.0</td>\n",
       "      <td>62.0</td>\n",
       "      <td>75.0</td>\n",
       "      <td>85.0</td>\n",
       "      <td>103.0</td>\n",
       "    </tr>\n",
       "    <tr>\n",
       "      <th>Terminal</th>\n",
       "      <td>777.0</td>\n",
       "      <td>79.702703</td>\n",
       "      <td>14.722359</td>\n",
       "      <td>24.0</td>\n",
       "      <td>71.0</td>\n",
       "      <td>82.0</td>\n",
       "      <td>92.0</td>\n",
       "      <td>100.0</td>\n",
       "    </tr>\n",
       "    <tr>\n",
       "      <th>S_F_Ratio</th>\n",
       "      <td>777.0</td>\n",
       "      <td>14.089704</td>\n",
       "      <td>3.958349</td>\n",
       "      <td>2.5</td>\n",
       "      <td>11.5</td>\n",
       "      <td>13.6</td>\n",
       "      <td>16.5</td>\n",
       "      <td>39.8</td>\n",
       "    </tr>\n",
       "    <tr>\n",
       "      <th>perc_alumni</th>\n",
       "      <td>777.0</td>\n",
       "      <td>22.743887</td>\n",
       "      <td>12.391801</td>\n",
       "      <td>0.0</td>\n",
       "      <td>13.0</td>\n",
       "      <td>21.0</td>\n",
       "      <td>31.0</td>\n",
       "      <td>64.0</td>\n",
       "    </tr>\n",
       "    <tr>\n",
       "      <th>Expend</th>\n",
       "      <td>777.0</td>\n",
       "      <td>9660.171171</td>\n",
       "      <td>5221.768440</td>\n",
       "      <td>3186.0</td>\n",
       "      <td>6751.0</td>\n",
       "      <td>8377.0</td>\n",
       "      <td>10830.0</td>\n",
       "      <td>56233.0</td>\n",
       "    </tr>\n",
       "    <tr>\n",
       "      <th>Grad_Rate</th>\n",
       "      <td>777.0</td>\n",
       "      <td>65.463320</td>\n",
       "      <td>17.177710</td>\n",
       "      <td>10.0</td>\n",
       "      <td>53.0</td>\n",
       "      <td>65.0</td>\n",
       "      <td>78.0</td>\n",
       "      <td>118.0</td>\n",
       "    </tr>\n",
       "  </tbody>\n",
       "</table>\n",
       "</div>"
      ],
      "text/plain": [
       "             count          mean          std     min     25%     50%  \\\n",
       "Apps         777.0   3001.638353  3870.201484    81.0   776.0  1558.0   \n",
       "Accept       777.0   2018.804376  2451.113971    72.0   604.0  1110.0   \n",
       "Enroll       777.0    779.972973   929.176190    35.0   242.0   434.0   \n",
       "Top10perc    777.0     27.558559    17.640364     1.0    15.0    23.0   \n",
       "Top25perc    777.0     55.796654    19.804778     9.0    41.0    54.0   \n",
       "F_Undergrad  777.0   3699.907336  4850.420531   139.0   992.0  1707.0   \n",
       "P_Undergrad  777.0    855.298584  1522.431887     1.0    95.0   353.0   \n",
       "Outstate     777.0  10440.669241  4023.016484  2340.0  7320.0  9990.0   \n",
       "Room_Board   777.0   4357.526384  1096.696416  1780.0  3597.0  4200.0   \n",
       "Books        777.0    549.380952   165.105360    96.0   470.0   500.0   \n",
       "Personal     777.0   1340.642214   677.071454   250.0   850.0  1200.0   \n",
       "PhD          777.0     72.660232    16.328155     8.0    62.0    75.0   \n",
       "Terminal     777.0     79.702703    14.722359    24.0    71.0    82.0   \n",
       "S_F_Ratio    777.0     14.089704     3.958349     2.5    11.5    13.6   \n",
       "perc_alumni  777.0     22.743887    12.391801     0.0    13.0    21.0   \n",
       "Expend       777.0   9660.171171  5221.768440  3186.0  6751.0  8377.0   \n",
       "Grad_Rate    777.0     65.463320    17.177710    10.0    53.0    65.0   \n",
       "\n",
       "                 75%      max  \n",
       "Apps          3624.0  48094.0  \n",
       "Accept        2424.0  26330.0  \n",
       "Enroll         902.0   6392.0  \n",
       "Top10perc       35.0     96.0  \n",
       "Top25perc       69.0    100.0  \n",
       "F_Undergrad   4005.0  31643.0  \n",
       "P_Undergrad    967.0  21836.0  \n",
       "Outstate     12925.0  21700.0  \n",
       "Room_Board    5050.0   8124.0  \n",
       "Books          600.0   2340.0  \n",
       "Personal      1700.0   6800.0  \n",
       "PhD             85.0    103.0  \n",
       "Terminal        92.0    100.0  \n",
       "S_F_Ratio       16.5     39.8  \n",
       "perc_alumni     31.0     64.0  \n",
       "Expend       10830.0  56233.0  \n",
       "Grad_Rate       78.0    118.0  "
      ]
     },
     "execution_count": 7,
     "metadata": {},
     "output_type": "execute_result"
    }
   ],
   "source": [
    "data.describe().T"
   ]
  },
  {
   "cell_type": "markdown",
   "metadata": {
    "id": "w3MmY2dUOPU-"
   },
   "source": [
    "**Observations:**\n",
    "\n",
    "- On an average, approx 3,000 applications are received in US universities, out of which around 2,000 applications are accepted by the universities and around 780 new students get enrolled.\n",
    "- The standard deviation is very high for these variables - Apps, Accepted, Enroll which shows the variety of universities and colleges.\n",
    "- The average cost for room and board, books, and personal expense is approx 4,357, 550, and 1,350 dollars respectively.\n",
    "- The average number of full time undergrad students are around 3700 whereas the average number of part-time undergrad students stand low at around 850.\n",
    "- PhD and Grad_Rate have a maximum value of greater than 100 which is not possible as these variables are in percentages. Let's see how many such observations are there in the data."
   ]
  },
  {
   "cell_type": "code",
   "execution_count": 8,
   "metadata": {
    "id": "uIzvCOJrOPU-",
    "outputId": "9f661fc7-dc63-4c74-deed-75a0740dae26"
   },
   "outputs": [
    {
     "data": {
      "text/html": [
       "<div>\n",
       "<style scoped>\n",
       "    .dataframe tbody tr th:only-of-type {\n",
       "        vertical-align: middle;\n",
       "    }\n",
       "\n",
       "    .dataframe tbody tr th {\n",
       "        vertical-align: top;\n",
       "    }\n",
       "\n",
       "    .dataframe thead th {\n",
       "        text-align: right;\n",
       "    }\n",
       "</style>\n",
       "<table border=\"1\" class=\"dataframe\">\n",
       "  <thead>\n",
       "    <tr style=\"text-align: right;\">\n",
       "      <th></th>\n",
       "      <th>Apps</th>\n",
       "      <th>Accept</th>\n",
       "      <th>Enroll</th>\n",
       "      <th>Top10perc</th>\n",
       "      <th>Top25perc</th>\n",
       "      <th>F_Undergrad</th>\n",
       "      <th>P_Undergrad</th>\n",
       "      <th>Outstate</th>\n",
       "      <th>Room_Board</th>\n",
       "      <th>Books</th>\n",
       "      <th>Personal</th>\n",
       "      <th>PhD</th>\n",
       "      <th>Terminal</th>\n",
       "      <th>S_F_Ratio</th>\n",
       "      <th>perc_alumni</th>\n",
       "      <th>Expend</th>\n",
       "      <th>Grad_Rate</th>\n",
       "    </tr>\n",
       "  </thead>\n",
       "  <tbody>\n",
       "    <tr>\n",
       "      <th>95</th>\n",
       "      <td>3847</td>\n",
       "      <td>3433</td>\n",
       "      <td>527</td>\n",
       "      <td>9</td>\n",
       "      <td>35</td>\n",
       "      <td>1010</td>\n",
       "      <td>12</td>\n",
       "      <td>9384</td>\n",
       "      <td>4840</td>\n",
       "      <td>600</td>\n",
       "      <td>500</td>\n",
       "      <td>22</td>\n",
       "      <td>47</td>\n",
       "      <td>14.3</td>\n",
       "      <td>20</td>\n",
       "      <td>7697</td>\n",
       "      <td>118</td>\n",
       "    </tr>\n",
       "    <tr>\n",
       "      <th>582</th>\n",
       "      <td>529</td>\n",
       "      <td>481</td>\n",
       "      <td>243</td>\n",
       "      <td>22</td>\n",
       "      <td>47</td>\n",
       "      <td>1206</td>\n",
       "      <td>134</td>\n",
       "      <td>4860</td>\n",
       "      <td>3122</td>\n",
       "      <td>600</td>\n",
       "      <td>650</td>\n",
       "      <td>103</td>\n",
       "      <td>88</td>\n",
       "      <td>17.4</td>\n",
       "      <td>16</td>\n",
       "      <td>6415</td>\n",
       "      <td>43</td>\n",
       "    </tr>\n",
       "  </tbody>\n",
       "</table>\n",
       "</div>"
      ],
      "text/plain": [
       "     Apps  Accept  Enroll  Top10perc  Top25perc  F_Undergrad  P_Undergrad  \\\n",
       "95   3847    3433     527          9         35         1010           12   \n",
       "582   529     481     243         22         47         1206          134   \n",
       "\n",
       "     Outstate  Room_Board  Books  Personal  PhD  Terminal  S_F_Ratio  \\\n",
       "95       9384        4840    600       500   22        47       14.3   \n",
       "582      4860        3122    600       650  103        88       17.4   \n",
       "\n",
       "     perc_alumni  Expend  Grad_Rate  \n",
       "95            20    7697        118  \n",
       "582           16    6415         43  "
      ]
     },
     "execution_count": 8,
     "metadata": {},
     "output_type": "execute_result"
    }
   ],
   "source": [
    "data[(data.PhD>100) | (data.Grad_Rate>100)]"
   ]
  },
  {
   "cell_type": "markdown",
   "metadata": {
    "id": "Gp528sd8OPU_"
   },
   "source": [
    "**There is just one such observation for each variable. We can cap the values to 100%.**"
   ]
  },
  {
   "cell_type": "code",
   "execution_count": 9,
   "metadata": {
    "id": "CuSEHJv3OPU_"
   },
   "outputs": [],
   "source": [
    "data.loc[582,\"PhD\"]=100\n",
    "data.loc[95,\"Grad_Rate\"]=100"
   ]
  },
  {
   "cell_type": "markdown",
   "metadata": {
    "id": "6KBFnS4-OPU_"
   },
   "source": [
    "#### Let's check the distribution and outliers for each column in the data"
   ]
  },
  {
   "cell_type": "code",
   "execution_count": null,
   "metadata": {},
   "outputs": [],
   "source": [
    "np.log()"
   ]
  },
  {
   "cell_type": "code",
   "execution_count": 24,
   "metadata": {
    "id": "nePVJTT8OPU_",
    "outputId": "d488d492-0096-4a1b-98e7-4575af7d5390",
    "scrolled": false
   },
   "outputs": [
    {
     "name": "stdout",
     "output_type": "stream",
     "text": [
      "Apps\n",
      "Skew : 3.72\n",
      "Kurt : 26.77\n"
     ]
    },
    {
     "data": {
      "image/png": "[encoded data removed]",
      "text/plain": [
       "<Figure size 1080x288 with 2 Axes>"
      ]
     },
     "metadata": {
      "needs_background": "light"
     },
     "output_type": "display_data"
    },
    {
     "name": "stdout",
     "output_type": "stream",
     "text": [
      "Accept\n",
      "Skew : 3.42\n",
      "Kurt : 18.94\n"
     ]
    },
    {
     "data": {
      "image/png": "[encoded data removed]",
      "text/plain": [
       "<Figure size 1080x288 with 2 Axes>"
      ]
     },
     "metadata": {
      "needs_background": "light"
     },
     "output_type": "display_data"
    },
    {
     "name": "stdout",
     "output_type": "stream",
     "text": [
      "Enroll\n",
      "Skew : 2.69\n",
      "Kurt : 8.83\n"
     ]
    },
    {
     "data": {
      "image/png": "[encoded data removed]",
      "text/plain": [
       "<Figure size 1080x288 with 2 Axes>"
      ]
     },
     "metadata": {
      "needs_background": "light"
     },
     "output_type": "display_data"
    },
    {
     "name": "stdout",
     "output_type": "stream",
     "text": [
      "Top10perc\n",
      "Skew : 1.41\n",
      "Kurt : 2.21\n"
     ]
    },
    {
     "data": {
      "image/png": "[encoded data removed]",
      "text/plain": [
       "<Figure size 1080x288 with 2 Axes>"
      ]
     },
     "metadata": {
      "needs_background": "light"
     },
     "output_type": "display_data"
    },
    {
     "name": "stdout",
     "output_type": "stream",
     "text": [
      "Top25perc\n",
      "Skew : 0.26\n",
      "Kurt : -0.56\n"
     ]
    },
    {
     "data": {
      "image/png": "[encoded data removed]",
      "text/plain": [
       "<Figure size 1080x288 with 2 Axes>"
      ]
     },
     "metadata": {
      "needs_background": "light"
     },
     "output_type": "display_data"
    },
    {
     "name": "stdout",
     "output_type": "stream",
     "text": [
      "F_Undergrad\n",
      "Skew : 2.61\n",
      "Kurt : 7.7\n"
     ]
    },
    {
     "data": {
      "image/png": "[encoded data removed]",
      "text/plain": [
       "<Figure size 1080x288 with 2 Axes>"
      ]
     },
     "metadata": {
      "needs_background": "light"
     },
     "output_type": "display_data"
    },
    {
     "name": "stdout",
     "output_type": "stream",
     "text": [
      "P_Undergrad\n",
      "Skew : 5.69\n",
      "Kurt : 55.03\n"
     ]
    },
    {
     "data": {
      "image/png": "[encoded data removed]",
      "text/plain": [
       "<Figure size 1080x288 with 2 Axes>"
      ]
     },
     "metadata": {
      "needs_background": "light"
     },
     "output_type": "display_data"
    },
    {
     "name": "stdout",
     "output_type": "stream",
     "text": [
      "Outstate\n",
      "Skew : 0.51\n",
      "Kurt : -0.41\n"
     ]
    },
    {
     "data": {
      "image/png": "[encoded data removed]",
      "text/plain": [
       "<Figure size 1080x288 with 2 Axes>"
      ]
     },
     "metadata": {
      "needs_background": "light"
     },
     "output_type": "display_data"
    },
    {
     "name": "stdout",
     "output_type": "stream",
     "text": [
      "Room_Board\n",
      "Skew : 0.48\n",
      "Kurt : -0.19\n"
     ]
    },
    {
     "data": {
      "image/png": "[encoded data removed]",
      "text/plain": [
       "<Figure size 1080x288 with 2 Axes>"
      ]
     },
     "metadata": {
      "needs_background": "light"
     },
     "output_type": "display_data"
    },
    {
     "name": "stdout",
     "output_type": "stream",
     "text": [
      "Books\n",
      "Skew : 3.49\n",
      "Kurt : 28.33\n"
     ]
    },
    {
     "data": {
      "image/png": "[encoded data removed]",
      "text/plain": [
       "<Figure size 1080x288 with 2 Axes>"
      ]
     },
     "metadata": {
      "needs_background": "light"
     },
     "output_type": "display_data"
    },
    {
     "name": "stdout",
     "output_type": "stream",
     "text": [
      "Personal\n",
      "Skew : 1.74\n",
      "Kurt : 7.12\n"
     ]
    },
    {
     "data": {
      "image/png": "[encoded data removed]",
      "text/plain": [
       "<Figure size 1080x288 with 2 Axes>"
      ]
     },
     "metadata": {
      "needs_background": "light"
     },
     "output_type": "display_data"
    },
    {
     "name": "stdout",
     "output_type": "stream",
     "text": [
      "PhD\n",
      "Skew : -0.77\n",
      "Kurt : 0.56\n"
     ]
    },
    {
     "data": {
      "image/png": "[encoded data removed]",
      "text/plain": [
       "<Figure size 1080x288 with 2 Axes>"
      ]
     },
     "metadata": {
      "needs_background": "light"
     },
     "output_type": "display_data"
    },
    {
     "name": "stdout",
     "output_type": "stream",
     "text": [
      "Terminal\n",
      "Skew : -0.82\n",
      "Kurt : 0.24\n"
     ]
    },
    {
     "data": {
      "image/png": "[encoded data removed]",
      "text/plain": [
       "<Figure size 1080x288 with 2 Axes>"
      ]
     },
     "metadata": {
      "needs_background": "light"
     },
     "output_type": "display_data"
    },
    {
     "name": "stdout",
     "output_type": "stream",
     "text": [
      "S_F_Ratio\n",
      "Skew : 0.67\n",
      "Kurt : 2.56\n"
     ]
    },
    {
     "data": {
      "image/png": "[encoded data removed]",
      "text/plain": [
       "<Figure size 1080x288 with 2 Axes>"
      ]
     },
     "metadata": {
      "needs_background": "light"
     },
     "output_type": "display_data"
    },
    {
     "name": "stdout",
     "output_type": "stream",
     "text": [
      "perc_alumni\n",
      "Skew : 0.61\n",
      "Kurt : -0.1\n"
     ]
    },
    {
     "data": {
      "image/png": "[encoded data removed]",
      "text/plain": [
       "<Figure size 1080x288 with 2 Axes>"
      ]
     },
     "metadata": {
      "needs_background": "light"
     },
     "output_type": "display_data"
    },
    {
     "name": "stdout",
     "output_type": "stream",
     "text": [
      "Expend\n",
      "Skew : 3.46\n",
      "Kurt : 18.77\n"
     ]
    },
    {
     "data": {
      "image/png": "[encoded data removed]",
      "text/plain": [
       "<Figure size 1080x288 with 2 Axes>"
      ]
     },
     "metadata": {
      "needs_background": "light"
     },
     "output_type": "display_data"
    },
    {
     "name": "stdout",
     "output_type": "stream",
     "text": [
      "Grad_Rate\n",
      "Skew : -0.14\n",
      "Kurt : -0.26\n"
     ]
    },
    {
     "data": {
      "image/png": "[encoded data removed]",
      "text/plain": [
       "<Figure size 1080x288 with 2 Axes>"
      ]
     },
     "metadata": {
      "needs_background": "light"
     },
     "output_type": "display_data"
    }
   ],
   "source": [
    "cont_cols = list(data.columns)\n",
    "for col in cont_cols:\n",
    "    print(col)\n",
    "    print('Skew :',round(data[col].skew(),2))\n",
    "    print('Kurt :',round(data[col].kurt(),2))\n",
    "    plt.figure(figsize=(15,4))\n",
    "    plt.subplot(1,2,1)\n",
    "    data[col].hist(bins=10, grid=False)\n",
    "    plt.ylabel('count')\n",
    "    plt.subplot(1,2,2)\n",
    "    sns.boxplot(x=data[col])\n",
    "    plt.show()"
   ]
  },
  {
   "cell_type": "markdown",
   "metadata": {
    "id": "E8magN8EOPVA"
   },
   "source": [
    "**Observations:**\n",
    "\n",
    "- The distribution plots show that Apps, Accept, Enroll, Top10perc, F_Undergrad, P_Undergrad, Books, Personal and Expend variables are highly right skewed. It is evident from boxplots that all these variables have outliers.\n",
    "- Top25percent is the only variable which does not possess outliers.\n",
    "- Outstate, Room_Board, S_F_Ratio and perc_alumni seems to have a moderate right skew.\n",
    "- PhD and Terminal are moderately left skewed. "
   ]
  },
  {
   "cell_type": "markdown",
   "metadata": {
    "id": "slJJmIhoOPVA"
   },
   "source": [
    "**Now, let's check the correlation among different variables.**"
   ]
  },
  {
   "cell_type": "code",
   "execution_count": 11,
   "metadata": {
    "id": "ou0Jca8uOPVB",
    "outputId": "ca7ca744-6747-413d-d149-bd4167109278"
   },
   "outputs": [
    {
     "data": {
      "image/png": "[encoded data removed]",
      "text/plain": [
       "<Figure size 1080x720 with 2 Axes>"
      ]
     },
     "metadata": {
      "needs_background": "light"
     },
     "output_type": "display_data"
    }
   ],
   "source": [
    "plt.figure(figsize=(15,10))\n",
    "sns.heatmap(data.corr(), annot=True, fmt='0.2f')\n",
    "plt.show()\n",
    "# High Correlation between features signify that PCA can be used for dimensionality reduction \n"
   ]
  },
  {
   "cell_type": "markdown",
   "metadata": {
    "id": "-Go3AHnpOPVB"
   },
   "source": [
    "**Observations:**\n",
    "\n",
    "- We can see high positive correlation among following variables: \n",
    "    1. Apps and Accept\n",
    "    2. Apps and Enroll\n",
    "    3. Apps and F_Undergrad\n",
    "    4. Accept and Enroll\n",
    "    5. Accept and F_Undergrad\n",
    "    6. Enroll and F_Undergrad\n",
    "    7. Top10perc and Top25percent\n",
    "    8. PhD and Terminal\n",
    "- We can see high negative correlation among following variables:\n",
    "    1. S_F_Ratio and Top10perc\n",
    "    2. S_F_Ratio and Expend"
   ]
  },
  {
   "cell_type": "markdown",
   "metadata": {
    "id": "U_tVtTW0OPVB"
   },
   "source": [
    "#### Scaling the data"
   ]
  },
  {
   "cell_type": "code",
   "execution_count": 2,
   "metadata": {
    "id": "WVOlH6WGOPVC"
   },
   "outputs": [],
   "source": [
    "scaler=StandardScaler()\n",
    "data_scaled=pd.DataFrame(scaler.fit_transform(data), columns=data.columns)\n",
    "#Another of way scaling that can used is call MinMaxScaler\n",
    "#Link - https://scikit-learn.org/stable/modules/generated/sklearn.preprocessing.MinMaxScaler.html"
   ]
  },
  {
   "cell_type": "code",
   "execution_count": 26,
   "metadata": {
    "id": "r5MdMPueOPVC",
    "outputId": "ef5a3e41-d3db-4122-d811-96bd78053f5e"
   },
   "outputs": [
    {
     "data": {
      "text/html": [
       "<div>\n",
       "<style scoped>\n",
       "    .dataframe tbody tr th:only-of-type {\n",
       "        vertical-align: middle;\n",
       "    }\n",
       "\n",
       "    .dataframe tbody tr th {\n",
       "        vertical-align: top;\n",
       "    }\n",
       "\n",
       "    .dataframe thead th {\n",
       "        text-align: right;\n",
       "    }\n",
       "</style>\n",
       "<table border=\"1\" class=\"dataframe\">\n",
       "  <thead>\n",
       "    <tr style=\"text-align: right;\">\n",
       "      <th></th>\n",
       "      <th>Apps</th>\n",
       "      <th>Accept</th>\n",
       "      <th>Enroll</th>\n",
       "      <th>Top10perc</th>\n",
       "      <th>Top25perc</th>\n",
       "      <th>F_Undergrad</th>\n",
       "      <th>P_Undergrad</th>\n",
       "      <th>Outstate</th>\n",
       "      <th>Room_Board</th>\n",
       "      <th>Books</th>\n",
       "      <th>Personal</th>\n",
       "      <th>PhD</th>\n",
       "      <th>Terminal</th>\n",
       "      <th>S_F_Ratio</th>\n",
       "      <th>perc_alumni</th>\n",
       "      <th>Expend</th>\n",
       "      <th>Grad_Rate</th>\n",
       "    </tr>\n",
       "  </thead>\n",
       "  <tbody>\n",
       "    <tr>\n",
       "      <th>0</th>\n",
       "      <td>-0.346882</td>\n",
       "      <td>-0.321205</td>\n",
       "      <td>-0.063509</td>\n",
       "      <td>-0.258583</td>\n",
       "      <td>-0.191827</td>\n",
       "      <td>-0.168116</td>\n",
       "      <td>-0.209207</td>\n",
       "      <td>-0.746356</td>\n",
       "      <td>-0.964905</td>\n",
       "      <td>-0.602312</td>\n",
       "      <td>1.270045</td>\n",
       "      <td>-0.162859</td>\n",
       "      <td>-0.115729</td>\n",
       "      <td>1.013776</td>\n",
       "      <td>-0.867574</td>\n",
       "      <td>-0.501910</td>\n",
       "      <td>-0.317993</td>\n",
       "    </tr>\n",
       "    <tr>\n",
       "      <th>1</th>\n",
       "      <td>-0.210884</td>\n",
       "      <td>-0.038703</td>\n",
       "      <td>-0.288584</td>\n",
       "      <td>-0.655656</td>\n",
       "      <td>-1.353911</td>\n",
       "      <td>-0.209788</td>\n",
       "      <td>0.244307</td>\n",
       "      <td>0.457496</td>\n",
       "      <td>1.909208</td>\n",
       "      <td>1.215880</td>\n",
       "      <td>0.235515</td>\n",
       "      <td>-2.676529</td>\n",
       "      <td>-3.378176</td>\n",
       "      <td>-0.477704</td>\n",
       "      <td>-0.544572</td>\n",
       "      <td>0.166110</td>\n",
       "      <td>-0.551805</td>\n",
       "    </tr>\n",
       "    <tr>\n",
       "      <th>2</th>\n",
       "      <td>-0.406866</td>\n",
       "      <td>-0.376318</td>\n",
       "      <td>-0.478121</td>\n",
       "      <td>-0.315307</td>\n",
       "      <td>-0.292878</td>\n",
       "      <td>-0.549565</td>\n",
       "      <td>-0.497090</td>\n",
       "      <td>0.201305</td>\n",
       "      <td>-0.554317</td>\n",
       "      <td>-0.905344</td>\n",
       "      <td>-0.259582</td>\n",
       "      <td>-1.205112</td>\n",
       "      <td>-0.931341</td>\n",
       "      <td>-0.300749</td>\n",
       "      <td>0.585935</td>\n",
       "      <td>-0.177290</td>\n",
       "      <td>-0.668710</td>\n",
       "    </tr>\n",
       "    <tr>\n",
       "      <th>3</th>\n",
       "      <td>-0.668261</td>\n",
       "      <td>-0.681682</td>\n",
       "      <td>-0.692427</td>\n",
       "      <td>1.840231</td>\n",
       "      <td>1.677612</td>\n",
       "      <td>-0.658079</td>\n",
       "      <td>-0.520752</td>\n",
       "      <td>0.626633</td>\n",
       "      <td>0.996791</td>\n",
       "      <td>-0.602312</td>\n",
       "      <td>-0.688173</td>\n",
       "      <td>1.185939</td>\n",
       "      <td>1.175657</td>\n",
       "      <td>-1.615274</td>\n",
       "      <td>1.151188</td>\n",
       "      <td>1.792851</td>\n",
       "      <td>-0.376446</td>\n",
       "    </tr>\n",
       "    <tr>\n",
       "      <th>4</th>\n",
       "      <td>-0.726176</td>\n",
       "      <td>-0.764555</td>\n",
       "      <td>-0.780735</td>\n",
       "      <td>-0.655656</td>\n",
       "      <td>-0.596031</td>\n",
       "      <td>-0.711924</td>\n",
       "      <td>0.009005</td>\n",
       "      <td>-0.716508</td>\n",
       "      <td>-0.216723</td>\n",
       "      <td>1.518912</td>\n",
       "      <td>0.235515</td>\n",
       "      <td>0.204995</td>\n",
       "      <td>-0.523535</td>\n",
       "      <td>-0.553542</td>\n",
       "      <td>-1.675079</td>\n",
       "      <td>0.241803</td>\n",
       "      <td>-2.948375</td>\n",
       "    </tr>\n",
       "  </tbody>\n",
       "</table>\n",
       "</div>"
      ],
      "text/plain": [
       "       Apps    Accept    Enroll  Top10perc  Top25perc  F_Undergrad  \\\n",
       "0 -0.346882 -0.321205 -0.063509  -0.258583  -0.191827    -0.168116   \n",
       "1 -0.210884 -0.038703 -0.288584  -0.655656  -1.353911    -0.209788   \n",
       "2 -0.406866 -0.376318 -0.478121  -0.315307  -0.292878    -0.549565   \n",
       "3 -0.668261 -0.681682 -0.692427   1.840231   1.677612    -0.658079   \n",
       "4 -0.726176 -0.764555 -0.780735  -0.655656  -0.596031    -0.711924   \n",
       "\n",
       "   P_Undergrad  Outstate  Room_Board     Books  Personal       PhD  Terminal  \\\n",
       "0    -0.209207 -0.746356   -0.964905 -0.602312  1.270045 -0.162859 -0.115729   \n",
       "1     0.244307  0.457496    1.909208  1.215880  0.235515 -2.676529 -3.378176   \n",
       "2    -0.497090  0.201305   -0.554317 -0.905344 -0.259582 -1.205112 -0.931341   \n",
       "3    -0.520752  0.626633    0.996791 -0.602312 -0.688173  1.185939  1.175657   \n",
       "4     0.009005 -0.716508   -0.216723  1.518912  0.235515  0.204995 -0.523535   \n",
       "\n",
       "   S_F_Ratio  perc_alumni    Expend  Grad_Rate  \n",
       "0   1.013776    -0.867574 -0.501910  -0.317993  \n",
       "1  -0.477704    -0.544572  0.166110  -0.551805  \n",
       "2  -0.300749     0.585935 -0.177290  -0.668710  \n",
       "3  -1.615274     1.151188  1.792851  -0.376446  \n",
       "4  -0.553542    -1.675079  0.241803  -2.948375  "
      ]
     },
     "execution_count": 26,
     "metadata": {},
     "output_type": "execute_result"
    }
   ],
   "source": [
    "data_scaled.head()\n"
   ]
  },
  {
   "cell_type": "code",
   "execution_count": 27,
   "metadata": {},
   "outputs": [
    {
     "data": {
      "text/html": [
       "<div>\n",
       "<style scoped>\n",
       "    .dataframe tbody tr th:only-of-type {\n",
       "        vertical-align: middle;\n",
       "    }\n",
       "\n",
       "    .dataframe tbody tr th {\n",
       "        vertical-align: top;\n",
       "    }\n",
       "\n",
       "    .dataframe thead th {\n",
       "        text-align: right;\n",
       "    }\n",
       "</style>\n",
       "<table border=\"1\" class=\"dataframe\">\n",
       "  <thead>\n",
       "    <tr style=\"text-align: right;\">\n",
       "      <th></th>\n",
       "      <th>count</th>\n",
       "      <th>mean</th>\n",
       "      <th>std</th>\n",
       "      <th>min</th>\n",
       "      <th>25%</th>\n",
       "      <th>50%</th>\n",
       "      <th>75%</th>\n",
       "      <th>max</th>\n",
       "    </tr>\n",
       "  </thead>\n",
       "  <tbody>\n",
       "    <tr>\n",
       "      <th>Apps</th>\n",
       "      <td>777.0</td>\n",
       "      <td>3.657878e-17</td>\n",
       "      <td>1.000644</td>\n",
       "      <td>-0.755134</td>\n",
       "      <td>-0.575441</td>\n",
       "      <td>-0.373254</td>\n",
       "      <td>0.160912</td>\n",
       "      <td>11.658671</td>\n",
       "    </tr>\n",
       "    <tr>\n",
       "      <th>Accept</th>\n",
       "      <td>777.0</td>\n",
       "      <td>5.486816e-17</td>\n",
       "      <td>1.000644</td>\n",
       "      <td>-0.794764</td>\n",
       "      <td>-0.577581</td>\n",
       "      <td>-0.371011</td>\n",
       "      <td>0.165417</td>\n",
       "      <td>9.924816</td>\n",
       "    </tr>\n",
       "    <tr>\n",
       "      <th>Enroll</th>\n",
       "      <td>777.0</td>\n",
       "      <td>-5.486816e-17</td>\n",
       "      <td>1.000644</td>\n",
       "      <td>-0.802273</td>\n",
       "      <td>-0.579351</td>\n",
       "      <td>-0.372584</td>\n",
       "      <td>0.131413</td>\n",
       "      <td>6.043678</td>\n",
       "    </tr>\n",
       "    <tr>\n",
       "      <th>Top10perc</th>\n",
       "      <td>777.0</td>\n",
       "      <td>-4.115112e-17</td>\n",
       "      <td>1.000644</td>\n",
       "      <td>-1.506526</td>\n",
       "      <td>-0.712380</td>\n",
       "      <td>-0.258583</td>\n",
       "      <td>0.422113</td>\n",
       "      <td>3.882319</td>\n",
       "    </tr>\n",
       "    <tr>\n",
       "      <th>Top25perc</th>\n",
       "      <td>777.0</td>\n",
       "      <td>-1.554598e-16</td>\n",
       "      <td>1.000644</td>\n",
       "      <td>-2.364419</td>\n",
       "      <td>-0.747607</td>\n",
       "      <td>-0.090777</td>\n",
       "      <td>0.667104</td>\n",
       "      <td>2.233391</td>\n",
       "    </tr>\n",
       "    <tr>\n",
       "      <th>F_Undergrad</th>\n",
       "      <td>777.0</td>\n",
       "      <td>1.828939e-17</td>\n",
       "      <td>1.000644</td>\n",
       "      <td>-0.734617</td>\n",
       "      <td>-0.558643</td>\n",
       "      <td>-0.411138</td>\n",
       "      <td>0.062941</td>\n",
       "      <td>5.764674</td>\n",
       "    </tr>\n",
       "    <tr>\n",
       "      <th>P_Undergrad</th>\n",
       "      <td>777.0</td>\n",
       "      <td>0.000000e+00</td>\n",
       "      <td>1.000644</td>\n",
       "      <td>-0.561502</td>\n",
       "      <td>-0.499719</td>\n",
       "      <td>-0.330144</td>\n",
       "      <td>0.073418</td>\n",
       "      <td>13.789921</td>\n",
       "    </tr>\n",
       "    <tr>\n",
       "      <th>Outstate</th>\n",
       "      <td>777.0</td>\n",
       "      <td>1.554598e-16</td>\n",
       "      <td>1.000644</td>\n",
       "      <td>-2.014878</td>\n",
       "      <td>-0.776203</td>\n",
       "      <td>-0.112095</td>\n",
       "      <td>0.617927</td>\n",
       "      <td>2.800531</td>\n",
       "    </tr>\n",
       "    <tr>\n",
       "      <th>Room_Board</th>\n",
       "      <td>777.0</td>\n",
       "      <td>3.474984e-16</td>\n",
       "      <td>1.000644</td>\n",
       "      <td>-2.351778</td>\n",
       "      <td>-0.693917</td>\n",
       "      <td>-0.143730</td>\n",
       "      <td>0.631824</td>\n",
       "      <td>3.436593</td>\n",
       "    </tr>\n",
       "    <tr>\n",
       "      <th>Books</th>\n",
       "      <td>777.0</td>\n",
       "      <td>-1.760354e-16</td>\n",
       "      <td>1.000644</td>\n",
       "      <td>-2.747779</td>\n",
       "      <td>-0.481099</td>\n",
       "      <td>-0.299280</td>\n",
       "      <td>0.306784</td>\n",
       "      <td>10.852297</td>\n",
       "    </tr>\n",
       "    <tr>\n",
       "      <th>Personal</th>\n",
       "      <td>777.0</td>\n",
       "      <td>4.572347e-17</td>\n",
       "      <td>1.000644</td>\n",
       "      <td>-1.611860</td>\n",
       "      <td>-0.725120</td>\n",
       "      <td>-0.207855</td>\n",
       "      <td>0.531095</td>\n",
       "      <td>8.068387</td>\n",
       "    </tr>\n",
       "    <tr>\n",
       "      <th>PhD</th>\n",
       "      <td>777.0</td>\n",
       "      <td>1.097363e-16</td>\n",
       "      <td>1.000644</td>\n",
       "      <td>-3.964018</td>\n",
       "      <td>-0.653331</td>\n",
       "      <td>0.143686</td>\n",
       "      <td>0.756776</td>\n",
       "      <td>1.676411</td>\n",
       "    </tr>\n",
       "    <tr>\n",
       "      <th>Terminal</th>\n",
       "      <td>777.0</td>\n",
       "      <td>-4.115112e-16</td>\n",
       "      <td>1.000644</td>\n",
       "      <td>-3.785982</td>\n",
       "      <td>-0.591502</td>\n",
       "      <td>0.156142</td>\n",
       "      <td>0.835818</td>\n",
       "      <td>1.379560</td>\n",
       "    </tr>\n",
       "    <tr>\n",
       "      <th>S_F_Ratio</th>\n",
       "      <td>777.0</td>\n",
       "      <td>-6.401286e-17</td>\n",
       "      <td>1.000644</td>\n",
       "      <td>-2.929799</td>\n",
       "      <td>-0.654660</td>\n",
       "      <td>-0.123794</td>\n",
       "      <td>0.609307</td>\n",
       "      <td>6.499390</td>\n",
       "    </tr>\n",
       "    <tr>\n",
       "      <th>perc_alumni</th>\n",
       "      <td>777.0</td>\n",
       "      <td>9.144694e-18</td>\n",
       "      <td>1.000644</td>\n",
       "      <td>-1.836580</td>\n",
       "      <td>-0.786824</td>\n",
       "      <td>-0.140820</td>\n",
       "      <td>0.666685</td>\n",
       "      <td>3.331452</td>\n",
       "    </tr>\n",
       "    <tr>\n",
       "      <th>Expend</th>\n",
       "      <td>777.0</td>\n",
       "      <td>1.325981e-16</td>\n",
       "      <td>1.000644</td>\n",
       "      <td>-1.240641</td>\n",
       "      <td>-0.557483</td>\n",
       "      <td>-0.245893</td>\n",
       "      <td>0.224174</td>\n",
       "      <td>8.924721</td>\n",
       "    </tr>\n",
       "    <tr>\n",
       "      <th>Grad_Rate</th>\n",
       "      <td>777.0</td>\n",
       "      <td>-2.469067e-16</td>\n",
       "      <td>1.000644</td>\n",
       "      <td>-3.240639</td>\n",
       "      <td>-0.727163</td>\n",
       "      <td>-0.025728</td>\n",
       "      <td>0.734160</td>\n",
       "      <td>2.020124</td>\n",
       "    </tr>\n",
       "  </tbody>\n",
       "</table>\n",
       "</div>"
      ],
      "text/plain": [
       "             count          mean       std       min       25%       50%  \\\n",
       "Apps         777.0  3.657878e-17  1.000644 -0.755134 -0.575441 -0.373254   \n",
       "Accept       777.0  5.486816e-17  1.000644 -0.794764 -0.577581 -0.371011   \n",
       "Enroll       777.0 -5.486816e-17  1.000644 -0.802273 -0.579351 -0.372584   \n",
       "Top10perc    777.0 -4.115112e-17  1.000644 -1.506526 -0.712380 -0.258583   \n",
       "Top25perc    777.0 -1.554598e-16  1.000644 -2.364419 -0.747607 -0.090777   \n",
       "F_Undergrad  777.0  1.828939e-17  1.000644 -0.734617 -0.558643 -0.411138   \n",
       "P_Undergrad  777.0  0.000000e+00  1.000644 -0.561502 -0.499719 -0.330144   \n",
       "Outstate     777.0  1.554598e-16  1.000644 -2.014878 -0.776203 -0.112095   \n",
       "Room_Board   777.0  3.474984e-16  1.000644 -2.351778 -0.693917 -0.143730   \n",
       "Books        777.0 -1.760354e-16  1.000644 -2.747779 -0.481099 -0.299280   \n",
       "Personal     777.0  4.572347e-17  1.000644 -1.611860 -0.725120 -0.207855   \n",
       "PhD          777.0  1.097363e-16  1.000644 -3.964018 -0.653331  0.143686   \n",
       "Terminal     777.0 -4.115112e-16  1.000644 -3.785982 -0.591502  0.156142   \n",
       "S_F_Ratio    777.0 -6.401286e-17  1.000644 -2.929799 -0.654660 -0.123794   \n",
       "perc_alumni  777.0  9.144694e-18  1.000644 -1.836580 -0.786824 -0.140820   \n",
       "Expend       777.0  1.325981e-16  1.000644 -1.240641 -0.557483 -0.245893   \n",
       "Grad_Rate    777.0 -2.469067e-16  1.000644 -3.240639 -0.727163 -0.025728   \n",
       "\n",
       "                  75%        max  \n",
       "Apps         0.160912  11.658671  \n",
       "Accept       0.165417   9.924816  \n",
       "Enroll       0.131413   6.043678  \n",
       "Top10perc    0.422113   3.882319  \n",
       "Top25perc    0.667104   2.233391  \n",
       "F_Undergrad  0.062941   5.764674  \n",
       "P_Undergrad  0.073418  13.789921  \n",
       "Outstate     0.617927   2.800531  \n",
       "Room_Board   0.631824   3.436593  \n",
       "Books        0.306784  10.852297  \n",
       "Personal     0.531095   8.068387  \n",
       "PhD          0.756776   1.676411  \n",
       "Terminal     0.835818   1.379560  \n",
       "S_F_Ratio    0.609307   6.499390  \n",
       "perc_alumni  0.666685   3.331452  \n",
       "Expend       0.224174   8.924721  \n",
       "Grad_Rate    0.734160   2.020124  "
      ]
     },
     "execution_count": 27,
     "metadata": {},
     "output_type": "execute_result"
    }
   ],
   "source": [
    "data_scaled.describe().T\n",
    "#Every feature scaled with Mean 0 and Std Dev 1"
   ]
  },
  {
   "cell_type": "markdown",
   "metadata": {
    "id": "-2z3eoCpOPVC"
   },
   "source": [
    "## Principal Component Analysis"
   ]
  },
  {
   "cell_type": "code",
   "execution_count": 75,
   "metadata": {},
   "outputs": [
    {
     "data": {
      "text/plain": [
       "17"
      ]
     },
     "execution_count": 75,
     "metadata": {},
     "output_type": "execute_result"
    }
   ],
   "source": [
    "#Defining the number of principal components to generate \n",
    "n=data_scaled.shape[1]\n",
    "n"
   ]
  },
  {
   "cell_type": "code",
   "execution_count": 30,
   "metadata": {
    "id": "JfdQ1cyeOPVC"
   },
   "outputs": [
    {
     "data": {
      "text/plain": [
       "(777, 17)"
      ]
     },
     "execution_count": 30,
     "metadata": {},
     "output_type": "execute_result"
    }
   ],
   "source": [
    "#Finding principal components for the data\n",
    "pca = PCA(n_components=n, random_state=1)\n",
    "data_pca1 = pd.DataFrame(pca.fit_transform(data_scaled))\n",
    "\n",
    "data_pca1.shape"
   ]
  },
  {
   "cell_type": "code",
   "execution_count": 31,
   "metadata": {},
   "outputs": [
    {
     "data": {
      "text/plain": [
       "array([0.32046058, 0.26342915, 0.06901114, 0.05906272, 0.05489027,\n",
       "       0.04982847, 0.0355726 , 0.03453611, 0.03116758, 0.02370464,\n",
       "       0.01840343, 0.01295305, 0.00985822, 0.00844107, 0.00517124,\n",
       "       0.00215728, 0.00135244])"
      ]
     },
     "execution_count": 31,
     "metadata": {},
     "output_type": "execute_result"
    }
   ],
   "source": [
    "#The percentage of variance explained by each principal component\n",
    "exp_var = pca.explained_variance_ratio_\n",
    "exp_var"
   ]
  },
  {
   "cell_type": "code",
   "execution_count": 32,
   "metadata": {
    "id": "aeSBkw9AOPVC",
    "outputId": "8fbaf25d-aa10-4b1a-dc80-e3454abafe8f"
   },
   "outputs": [
    {
     "data": {
      "text/plain": [
       "Text(0, 0.5, 'Cumulative Explained Variance')"
      ]
     },
     "execution_count": 32,
     "metadata": {},
     "output_type": "execute_result"
    },
    {
     "data": {
      "image/png": "[encoded data removed]",
      "text/plain": [
       "<Figure size 720x720 with 1 Axes>"
      ]
     },
     "metadata": {
      "needs_background": "light"
     },
     "output_type": "display_data"
    }
   ],
   "source": [
    "# visualize the Explained Individual Components\n",
    "plt.figure(figsize = (10,10))\n",
    "plt.plot(range(1,18), pca.explained_variance_ratio_.cumsum(), marker = 'o', linestyle = '--')\n",
    "plt.title(\"Explained Variances by Components\")\n",
    "plt.xlabel(\"Number of Components\")\n",
    "plt.ylabel(\"Cumulative Explained Variance\")"
   ]
  },
  {
   "cell_type": "code",
   "execution_count": 33,
   "metadata": {
    "id": "XfGsx3x5OPVD",
    "outputId": "c3f3d494-8815-4df4-fdd1-6c0910f2ec5b"
   },
   "outputs": [
    {
     "name": "stdout",
     "output_type": "stream",
     "text": [
      "Number of PCs that explain at least 70% variance:  4\n"
     ]
    }
   ],
   "source": [
    "# find the least number of components that can explain more than 70% variance\n",
    "sum = 0\n",
    "for ix, i in enumerate(exp_var):\n",
    "  sum = sum + i\n",
    "  if(sum>0.70):\n",
    "    print(\"Number of PCs that explain at least 70% variance: \", ix+1)\n",
    "    break"
   ]
  },
  {
   "cell_type": "markdown",
   "metadata": {
    "id": "3TzgjIioOPVD"
   },
   "source": [
    "**Observations**:\n",
    "\n",
    "-  We can see that out of the 17 original features, we reduced the number of features through principal components to 4, these components explain approximately 70% of the original variance.\n",
    "\n",
    "- So that is about 76% reduction in the dimensionality with a loss of 30% in variance.\n",
    "\n",
    "- Let us now look at these principal components as a linear combination of original features."
   ]
  },
  {
   "cell_type": "code",
   "execution_count": 35,
   "metadata": {},
   "outputs": [
    {
     "data": {
      "text/plain": [
       "(17, 17)"
      ]
     },
     "execution_count": 35,
     "metadata": {},
     "output_type": "execute_result"
    }
   ],
   "source": [
    "pca.components_.shape\n",
    "# Rows - Features\n",
    "# Cols - Principal Components"
   ]
  },
  {
   "cell_type": "code",
   "execution_count": 20,
   "metadata": {
    "id": "x7uhhVsVOPVD",
    "outputId": "42f68022-e6f1-453c-b952-43cce0c63335"
   },
   "outputs": [
    {
     "data": {
      "text/html": [
       "<div>\n",
       "<style scoped>\n",
       "    .dataframe tbody tr th:only-of-type {\n",
       "        vertical-align: middle;\n",
       "    }\n",
       "\n",
       "    .dataframe tbody tr th {\n",
       "        vertical-align: top;\n",
       "    }\n",
       "\n",
       "    .dataframe thead th {\n",
       "        text-align: right;\n",
       "    }\n",
       "</style>\n",
       "<table border=\"1\" class=\"dataframe\">\n",
       "  <thead>\n",
       "    <tr style=\"text-align: right;\">\n",
       "      <th></th>\n",
       "      <th>PC1</th>\n",
       "      <th>PC2</th>\n",
       "      <th>PC3</th>\n",
       "      <th>PC4</th>\n",
       "    </tr>\n",
       "  </thead>\n",
       "  <tbody>\n",
       "    <tr>\n",
       "      <th>Apps</th>\n",
       "      <td>0.25</td>\n",
       "      <td>0.33</td>\n",
       "      <td>-0.06</td>\n",
       "      <td>0.28</td>\n",
       "    </tr>\n",
       "    <tr>\n",
       "      <th>Accept</th>\n",
       "      <td>0.21</td>\n",
       "      <td>0.37</td>\n",
       "      <td>-0.10</td>\n",
       "      <td>0.27</td>\n",
       "    </tr>\n",
       "    <tr>\n",
       "      <th>Enroll</th>\n",
       "      <td>0.18</td>\n",
       "      <td>0.40</td>\n",
       "      <td>-0.08</td>\n",
       "      <td>0.16</td>\n",
       "    </tr>\n",
       "    <tr>\n",
       "      <th>Top10perc</th>\n",
       "      <td>0.35</td>\n",
       "      <td>-0.08</td>\n",
       "      <td>0.03</td>\n",
       "      <td>-0.05</td>\n",
       "    </tr>\n",
       "    <tr>\n",
       "      <th>Top25perc</th>\n",
       "      <td>0.34</td>\n",
       "      <td>-0.04</td>\n",
       "      <td>-0.02</td>\n",
       "      <td>-0.11</td>\n",
       "    </tr>\n",
       "    <tr>\n",
       "      <th>F_Undergrad</th>\n",
       "      <td>0.15</td>\n",
       "      <td>0.42</td>\n",
       "      <td>-0.06</td>\n",
       "      <td>0.10</td>\n",
       "    </tr>\n",
       "    <tr>\n",
       "      <th>P_Undergrad</th>\n",
       "      <td>0.03</td>\n",
       "      <td>0.32</td>\n",
       "      <td>0.14</td>\n",
       "      <td>-0.16</td>\n",
       "    </tr>\n",
       "    <tr>\n",
       "      <th>Outstate</th>\n",
       "      <td>0.29</td>\n",
       "      <td>-0.25</td>\n",
       "      <td>0.05</td>\n",
       "      <td>0.13</td>\n",
       "    </tr>\n",
       "    <tr>\n",
       "      <th>Room_Board</th>\n",
       "      <td>0.25</td>\n",
       "      <td>-0.14</td>\n",
       "      <td>0.15</td>\n",
       "      <td>0.19</td>\n",
       "    </tr>\n",
       "    <tr>\n",
       "      <th>Books</th>\n",
       "      <td>0.06</td>\n",
       "      <td>0.06</td>\n",
       "      <td>0.68</td>\n",
       "      <td>0.08</td>\n",
       "    </tr>\n",
       "    <tr>\n",
       "      <th>Personal</th>\n",
       "      <td>-0.04</td>\n",
       "      <td>0.22</td>\n",
       "      <td>0.50</td>\n",
       "      <td>-0.24</td>\n",
       "    </tr>\n",
       "    <tr>\n",
       "      <th>PhD</th>\n",
       "      <td>0.32</td>\n",
       "      <td>0.06</td>\n",
       "      <td>-0.13</td>\n",
       "      <td>-0.53</td>\n",
       "    </tr>\n",
       "    <tr>\n",
       "      <th>Terminal</th>\n",
       "      <td>0.32</td>\n",
       "      <td>0.05</td>\n",
       "      <td>-0.07</td>\n",
       "      <td>-0.52</td>\n",
       "    </tr>\n",
       "    <tr>\n",
       "      <th>S_F_Ratio</th>\n",
       "      <td>-0.18</td>\n",
       "      <td>0.25</td>\n",
       "      <td>-0.29</td>\n",
       "      <td>-0.16</td>\n",
       "    </tr>\n",
       "    <tr>\n",
       "      <th>perc_alumni</th>\n",
       "      <td>0.21</td>\n",
       "      <td>-0.25</td>\n",
       "      <td>-0.15</td>\n",
       "      <td>0.02</td>\n",
       "    </tr>\n",
       "    <tr>\n",
       "      <th>Expend</th>\n",
       "      <td>0.32</td>\n",
       "      <td>-0.13</td>\n",
       "      <td>0.23</td>\n",
       "      <td>0.08</td>\n",
       "    </tr>\n",
       "    <tr>\n",
       "      <th>Grad_Rate</th>\n",
       "      <td>0.25</td>\n",
       "      <td>-0.17</td>\n",
       "      <td>-0.21</td>\n",
       "      <td>0.26</td>\n",
       "    </tr>\n",
       "  </tbody>\n",
       "</table>\n",
       "</div>"
      ],
      "text/plain": [
       "              PC1   PC2   PC3   PC4\n",
       "Apps         0.25  0.33 -0.06  0.28\n",
       "Accept       0.21  0.37 -0.10  0.27\n",
       "Enroll       0.18  0.40 -0.08  0.16\n",
       "Top10perc    0.35 -0.08  0.03 -0.05\n",
       "Top25perc    0.34 -0.04 -0.02 -0.11\n",
       "F_Undergrad  0.15  0.42 -0.06  0.10\n",
       "P_Undergrad  0.03  0.32  0.14 -0.16\n",
       "Outstate     0.29 -0.25  0.05  0.13\n",
       "Room_Board   0.25 -0.14  0.15  0.19\n",
       "Books        0.06  0.06  0.68  0.08\n",
       "Personal    -0.04  0.22  0.50 -0.24\n",
       "PhD          0.32  0.06 -0.13 -0.53\n",
       "Terminal     0.32  0.05 -0.07 -0.52\n",
       "S_F_Ratio   -0.18  0.25 -0.29 -0.16\n",
       "perc_alumni  0.21 -0.25 -0.15  0.02\n",
       "Expend       0.32 -0.13  0.23  0.08\n",
       "Grad_Rate    0.25 -0.17 -0.21  0.26"
      ]
     },
     "execution_count": 20,
     "metadata": {},
     "output_type": "execute_result"
    }
   ],
   "source": [
    "pc_comps = ['PC1','PC2','PC3','PC4']\n",
    "data_pca = pd.DataFrame(np.round(pca.components_[:4,:],2),index=pc_comps,columns=data_scaled.columns)\n",
    "data_pca.T\n",
    "# Get relationship between Principal Component and Original Features"
   ]
  },
  {
   "cell_type": "markdown",
   "metadata": {
    "id": "GJh7WkALOPVD"
   },
   "source": [
    "**Observations:**\n",
    "\n",
    "- Each principal component is a linear combination of original features. For example, we can write the equation for PC1 in the following manner:\n",
    "\n",
    "0.25 * Apps + 0.21 * Accept + 0.18 * Enroll + 0.35 * Top10perc + 0.34 * Top25perc + 0.15 * F_Undergrad + 0.03 * P_Undergrad + 0.29 * Outstate + 0.25 * Room_Board + 0.06 * Books + -0.04 * Personal + 0.32 * PhD + 0.32 * Terminal + -0.18 * S_F_Ratio + 0.21 * perc_alumni + 0.32 * Expend + 0.25 * Grad_Rate\n",
    "\n",
    "- For the business implications, the first two principal components picks up around 58% of the variability in the data. That is to say, picking up a considerable amount of variation in the data.\n",
    "\n",
    "- The explanation of each component along with their weights is also one of the ways to look at it. For example, we can consider weights with absolute value greater than 0.25 significant and analyze the each component.\n",
    "\n",
    "**NOTE: Decision regarding what value of weights is high or significant may vary from case to case. It depends on the problem at hand.**"
   ]
  },
  {
   "cell_type": "code",
   "execution_count": 36,
   "metadata": {
    "id": "LdcOnzcCOPVE",
    "outputId": "043d2950-e361-4b28-fef7-3aa2545a4915"
   },
   "outputs": [
    {
     "data": {
      "text/html": [
       "<style type=\"text/css\">\n",
       "#T_24fca_row0_col1, #T_24fca_row0_col3, #T_24fca_row1_col1, #T_24fca_row1_col3, #T_24fca_row2_col1, #T_24fca_row3_col0, #T_24fca_row4_col0, #T_24fca_row5_col1, #T_24fca_row6_col1, #T_24fca_row7_col0, #T_24fca_row9_col2, #T_24fca_row10_col2, #T_24fca_row11_col0, #T_24fca_row12_col0, #T_24fca_row15_col0, #T_24fca_row16_col3 {\n",
       "  background: skyblue;\n",
       "}\n",
       "#T_24fca_row11_col3, #T_24fca_row12_col3, #T_24fca_row13_col2 {\n",
       "  background: pink;\n",
       "}\n",
       "</style>\n",
       "<table id=\"T_24fca_\">\n",
       "  <thead>\n",
       "    <tr>\n",
       "      <th class=\"blank level0\" >&nbsp;</th>\n",
       "      <th class=\"col_heading level0 col0\" >PC1</th>\n",
       "      <th class=\"col_heading level0 col1\" >PC2</th>\n",
       "      <th class=\"col_heading level0 col2\" >PC3</th>\n",
       "      <th class=\"col_heading level0 col3\" >PC4</th>\n",
       "    </tr>\n",
       "  </thead>\n",
       "  <tbody>\n",
       "    <tr>\n",
       "      <th id=\"T_24fca_level0_row0\" class=\"row_heading level0 row0\" >Apps</th>\n",
       "      <td id=\"T_24fca_row0_col0\" class=\"data row0 col0\" >0.250000</td>\n",
       "      <td id=\"T_24fca_row0_col1\" class=\"data row0 col1\" >0.330000</td>\n",
       "      <td id=\"T_24fca_row0_col2\" class=\"data row0 col2\" >-0.060000</td>\n",
       "      <td id=\"T_24fca_row0_col3\" class=\"data row0 col3\" >0.280000</td>\n",
       "    </tr>\n",
       "    <tr>\n",
       "      <th id=\"T_24fca_level0_row1\" class=\"row_heading level0 row1\" >Accept</th>\n",
       "      <td id=\"T_24fca_row1_col0\" class=\"data row1 col0\" >0.210000</td>\n",
       "      <td id=\"T_24fca_row1_col1\" class=\"data row1 col1\" >0.370000</td>\n",
       "      <td id=\"T_24fca_row1_col2\" class=\"data row1 col2\" >-0.100000</td>\n",
       "      <td id=\"T_24fca_row1_col3\" class=\"data row1 col3\" >0.270000</td>\n",
       "    </tr>\n",
       "    <tr>\n",
       "      <th id=\"T_24fca_level0_row2\" class=\"row_heading level0 row2\" >Enroll</th>\n",
       "      <td id=\"T_24fca_row2_col0\" class=\"data row2 col0\" >0.180000</td>\n",
       "      <td id=\"T_24fca_row2_col1\" class=\"data row2 col1\" >0.400000</td>\n",
       "      <td id=\"T_24fca_row2_col2\" class=\"data row2 col2\" >-0.080000</td>\n",
       "      <td id=\"T_24fca_row2_col3\" class=\"data row2 col3\" >0.160000</td>\n",
       "    </tr>\n",
       "    <tr>\n",
       "      <th id=\"T_24fca_level0_row3\" class=\"row_heading level0 row3\" >Top10perc</th>\n",
       "      <td id=\"T_24fca_row3_col0\" class=\"data row3 col0\" >0.350000</td>\n",
       "      <td id=\"T_24fca_row3_col1\" class=\"data row3 col1\" >-0.080000</td>\n",
       "      <td id=\"T_24fca_row3_col2\" class=\"data row3 col2\" >0.030000</td>\n",
       "      <td id=\"T_24fca_row3_col3\" class=\"data row3 col3\" >-0.050000</td>\n",
       "    </tr>\n",
       "    <tr>\n",
       "      <th id=\"T_24fca_level0_row4\" class=\"row_heading level0 row4\" >Top25perc</th>\n",
       "      <td id=\"T_24fca_row4_col0\" class=\"data row4 col0\" >0.340000</td>\n",
       "      <td id=\"T_24fca_row4_col1\" class=\"data row4 col1\" >-0.040000</td>\n",
       "      <td id=\"T_24fca_row4_col2\" class=\"data row4 col2\" >-0.020000</td>\n",
       "      <td id=\"T_24fca_row4_col3\" class=\"data row4 col3\" >-0.110000</td>\n",
       "    </tr>\n",
       "    <tr>\n",
       "      <th id=\"T_24fca_level0_row5\" class=\"row_heading level0 row5\" >F_Undergrad</th>\n",
       "      <td id=\"T_24fca_row5_col0\" class=\"data row5 col0\" >0.150000</td>\n",
       "      <td id=\"T_24fca_row5_col1\" class=\"data row5 col1\" >0.420000</td>\n",
       "      <td id=\"T_24fca_row5_col2\" class=\"data row5 col2\" >-0.060000</td>\n",
       "      <td id=\"T_24fca_row5_col3\" class=\"data row5 col3\" >0.100000</td>\n",
       "    </tr>\n",
       "    <tr>\n",
       "      <th id=\"T_24fca_level0_row6\" class=\"row_heading level0 row6\" >P_Undergrad</th>\n",
       "      <td id=\"T_24fca_row6_col0\" class=\"data row6 col0\" >0.030000</td>\n",
       "      <td id=\"T_24fca_row6_col1\" class=\"data row6 col1\" >0.320000</td>\n",
       "      <td id=\"T_24fca_row6_col2\" class=\"data row6 col2\" >0.140000</td>\n",
       "      <td id=\"T_24fca_row6_col3\" class=\"data row6 col3\" >-0.160000</td>\n",
       "    </tr>\n",
       "    <tr>\n",
       "      <th id=\"T_24fca_level0_row7\" class=\"row_heading level0 row7\" >Outstate</th>\n",
       "      <td id=\"T_24fca_row7_col0\" class=\"data row7 col0\" >0.290000</td>\n",
       "      <td id=\"T_24fca_row7_col1\" class=\"data row7 col1\" >-0.250000</td>\n",
       "      <td id=\"T_24fca_row7_col2\" class=\"data row7 col2\" >0.050000</td>\n",
       "      <td id=\"T_24fca_row7_col3\" class=\"data row7 col3\" >0.130000</td>\n",
       "    </tr>\n",
       "    <tr>\n",
       "      <th id=\"T_24fca_level0_row8\" class=\"row_heading level0 row8\" >Room_Board</th>\n",
       "      <td id=\"T_24fca_row8_col0\" class=\"data row8 col0\" >0.250000</td>\n",
       "      <td id=\"T_24fca_row8_col1\" class=\"data row8 col1\" >-0.140000</td>\n",
       "      <td id=\"T_24fca_row8_col2\" class=\"data row8 col2\" >0.150000</td>\n",
       "      <td id=\"T_24fca_row8_col3\" class=\"data row8 col3\" >0.190000</td>\n",
       "    </tr>\n",
       "    <tr>\n",
       "      <th id=\"T_24fca_level0_row9\" class=\"row_heading level0 row9\" >Books</th>\n",
       "      <td id=\"T_24fca_row9_col0\" class=\"data row9 col0\" >0.060000</td>\n",
       "      <td id=\"T_24fca_row9_col1\" class=\"data row9 col1\" >0.060000</td>\n",
       "      <td id=\"T_24fca_row9_col2\" class=\"data row9 col2\" >0.680000</td>\n",
       "      <td id=\"T_24fca_row9_col3\" class=\"data row9 col3\" >0.080000</td>\n",
       "    </tr>\n",
       "    <tr>\n",
       "      <th id=\"T_24fca_level0_row10\" class=\"row_heading level0 row10\" >Personal</th>\n",
       "      <td id=\"T_24fca_row10_col0\" class=\"data row10 col0\" >-0.040000</td>\n",
       "      <td id=\"T_24fca_row10_col1\" class=\"data row10 col1\" >0.220000</td>\n",
       "      <td id=\"T_24fca_row10_col2\" class=\"data row10 col2\" >0.500000</td>\n",
       "      <td id=\"T_24fca_row10_col3\" class=\"data row10 col3\" >-0.240000</td>\n",
       "    </tr>\n",
       "    <tr>\n",
       "      <th id=\"T_24fca_level0_row11\" class=\"row_heading level0 row11\" >PhD</th>\n",
       "      <td id=\"T_24fca_row11_col0\" class=\"data row11 col0\" >0.320000</td>\n",
       "      <td id=\"T_24fca_row11_col1\" class=\"data row11 col1\" >0.060000</td>\n",
       "      <td id=\"T_24fca_row11_col2\" class=\"data row11 col2\" >-0.130000</td>\n",
       "      <td id=\"T_24fca_row11_col3\" class=\"data row11 col3\" >-0.530000</td>\n",
       "    </tr>\n",
       "    <tr>\n",
       "      <th id=\"T_24fca_level0_row12\" class=\"row_heading level0 row12\" >Terminal</th>\n",
       "      <td id=\"T_24fca_row12_col0\" class=\"data row12 col0\" >0.320000</td>\n",
       "      <td id=\"T_24fca_row12_col1\" class=\"data row12 col1\" >0.050000</td>\n",
       "      <td id=\"T_24fca_row12_col2\" class=\"data row12 col2\" >-0.070000</td>\n",
       "      <td id=\"T_24fca_row12_col3\" class=\"data row12 col3\" >-0.520000</td>\n",
       "    </tr>\n",
       "    <tr>\n",
       "      <th id=\"T_24fca_level0_row13\" class=\"row_heading level0 row13\" >S_F_Ratio</th>\n",
       "      <td id=\"T_24fca_row13_col0\" class=\"data row13 col0\" >-0.180000</td>\n",
       "      <td id=\"T_24fca_row13_col1\" class=\"data row13 col1\" >0.250000</td>\n",
       "      <td id=\"T_24fca_row13_col2\" class=\"data row13 col2\" >-0.290000</td>\n",
       "      <td id=\"T_24fca_row13_col3\" class=\"data row13 col3\" >-0.160000</td>\n",
       "    </tr>\n",
       "    <tr>\n",
       "      <th id=\"T_24fca_level0_row14\" class=\"row_heading level0 row14\" >perc_alumni</th>\n",
       "      <td id=\"T_24fca_row14_col0\" class=\"data row14 col0\" >0.210000</td>\n",
       "      <td id=\"T_24fca_row14_col1\" class=\"data row14 col1\" >-0.250000</td>\n",
       "      <td id=\"T_24fca_row14_col2\" class=\"data row14 col2\" >-0.150000</td>\n",
       "      <td id=\"T_24fca_row14_col3\" class=\"data row14 col3\" >0.020000</td>\n",
       "    </tr>\n",
       "    <tr>\n",
       "      <th id=\"T_24fca_level0_row15\" class=\"row_heading level0 row15\" >Expend</th>\n",
       "      <td id=\"T_24fca_row15_col0\" class=\"data row15 col0\" >0.320000</td>\n",
       "      <td id=\"T_24fca_row15_col1\" class=\"data row15 col1\" >-0.130000</td>\n",
       "      <td id=\"T_24fca_row15_col2\" class=\"data row15 col2\" >0.230000</td>\n",
       "      <td id=\"T_24fca_row15_col3\" class=\"data row15 col3\" >0.080000</td>\n",
       "    </tr>\n",
       "    <tr>\n",
       "      <th id=\"T_24fca_level0_row16\" class=\"row_heading level0 row16\" >Grad_Rate</th>\n",
       "      <td id=\"T_24fca_row16_col0\" class=\"data row16 col0\" >0.250000</td>\n",
       "      <td id=\"T_24fca_row16_col1\" class=\"data row16 col1\" >-0.170000</td>\n",
       "      <td id=\"T_24fca_row16_col2\" class=\"data row16 col2\" >-0.210000</td>\n",
       "      <td id=\"T_24fca_row16_col3\" class=\"data row16 col3\" >0.260000</td>\n",
       "    </tr>\n",
       "  </tbody>\n",
       "</table>\n"
      ],
      "text/plain": [
       "<pandas.io.formats.style.Styler at 0x1c16a5426d0>"
      ]
     },
     "execution_count": 36,
     "metadata": {},
     "output_type": "execute_result"
    }
   ],
   "source": [
    "def color_high(val):\n",
    "    if val <-0.25: # you can decide any value as per your understanding\n",
    "        return 'background: pink'\n",
    "    elif val >0.25:\n",
    "        return 'background: skyblue'   \n",
    "    \n",
    "data_pca.T.style.applymap(color_high)\n",
    "# Qn PC1 Signify ? - what would high / low values of PC1 relate to college as ? "
   ]
  },
  {
   "cell_type": "markdown",
   "metadata": {
    "id": "2uRJ_YszOPVH"
   },
   "source": [
    "**Observations:**\n",
    "\n",
    "- The first principal component, PC1, is related to high values of students scores (Top10perc, Top25perc), number of out-of-state students (Outstate), faculties education (PhD and Terminal) and the instructional expenditure (Expend) per student. This principal component seams to capture attributes that generally define premier colleges with high quality of students entering them and higher accomplishing faculty that is teaching there. They also seems to take rich students from all over the country. \n",
    "- The second principal component, PC2, is related to high values of number of applications - received (Apps), accepted (Accept) and enrolled (Enroll), and number of full time (F_Undergrad) and part time (P_Undergrad) students. This principal component seems to capture attributes that generally define non-premier colleges that are comparatively easier to get admissions into.\n",
    "- The third principal component, PC3, is related to financial aspects i.e. personal spending (Personal) and cost of books (Books) for a student. It is also associated with low values of student faculty ratios (S_F_Ratio).\n",
    "- The fourth principal component, PC4, is related to low values of faculty's education and high values of students' graduation rate. This principal component seems to capture attributes that define colleges which lack the highly educated faculty (PhD and Terminal) but it is comparatively easier to graduate from there (Grad_Rate)."
   ]
  },
  {
   "cell_type": "markdown",
   "metadata": {
    "id": "wUb9isjxOPVH"
   },
   "source": [
    "#### We can also visualize the data in 2 dimensions using first two principal components "
   ]
  },
  {
   "cell_type": "code",
   "execution_count": 37,
   "metadata": {
    "id": "nGbHvc6cOPVI",
    "outputId": "b7dd55d1-9acb-4924-be77-fabd1a4cf4a3"
   },
   "outputs": [
    {
     "data": {
      "text/plain": [
       "Text(0, 0.5, 'PC2')"
      ]
     },
     "execution_count": 37,
     "metadata": {},
     "output_type": "execute_result"
    },
    {
     "data": {
      "image/png": "[encoded data removed]",
      "text/plain": [
       "<Figure size 504x504 with 1 Axes>"
      ]
     },
     "metadata": {
      "needs_background": "light"
     },
     "output_type": "display_data"
    }
   ],
   "source": [
    "plt.figure(figsize = (7,7))\n",
    "sns.scatterplot(x=data_pca1[0],y=data_pca1[1])\n",
    "plt.xlabel(\"PC1\")\n",
    "plt.ylabel(\"PC2\")"
   ]
  },
  {
   "cell_type": "markdown",
   "metadata": {},
   "source": [
    "### Alternate method for dimensionality reduction \n",
    "#### t-SNE - preserve local similarities in data, Non Linear method adapts to underlying data\n",
    "##### Refer to the link below for t SNE intutuion\n",
    "https://www.youtube.com/watch?v=NEaUSP4YerM"
   ]
  },
  {
   "cell_type": "code",
   "execution_count": 38,
   "metadata": {},
   "outputs": [
    {
     "name": "stderr",
     "output_type": "stream",
     "text": [
      "C:\\Users\\amish_0v31o8z\\miniconda3\\envs\\py_mitidss\\lib\\site-packages\\sklearn\\manifold\\_t_sne.py:780: FutureWarning: The default initialization in TSNE will change from 'random' to 'pca' in 1.2.\n",
      "  warnings.warn(\n",
      "C:\\Users\\amish_0v31o8z\\miniconda3\\envs\\py_mitidss\\lib\\site-packages\\sklearn\\manifold\\_t_sne.py:790: FutureWarning: The default learning rate in TSNE will change from 200.0 to 'auto' in 1.2.\n",
      "  warnings.warn(\n"
     ]
    }
   ],
   "source": [
    "from sklearn.manifold import TSNE\n",
    "\n",
    "# Using 2 components to visualize on a 2D plane\n",
    "model = TSNE(n_components=2, random_state=0)\n",
    "# configuring the parameteres\n",
    "# the number of components = 2\n",
    "# default perplexity = 30\n",
    "# default learning rate = 200\n",
    "# default Maximum number of iterations for the optimization = 1000\n",
    "\n",
    "tsne_data = model.fit_transform(data_scaled)\n",
    "\n"
   ]
  },
  {
   "cell_type": "code",
   "execution_count": 39,
   "metadata": {},
   "outputs": [
    {
     "data": {
      "text/plain": [
       "(777, 2)"
      ]
     },
     "execution_count": 39,
     "metadata": {},
     "output_type": "execute_result"
    }
   ],
   "source": [
    "tsne_data.shape"
   ]
  },
  {
   "cell_type": "code",
   "execution_count": 49,
   "metadata": {},
   "outputs": [
    {
     "data": {
      "text/plain": [
       "(777,)"
      ]
     },
     "execution_count": 49,
     "metadata": {},
     "output_type": "execute_result"
    }
   ],
   "source": [
    "tsne_data[:,0].shape"
   ]
  },
  {
   "cell_type": "code",
   "execution_count": 50,
   "metadata": {},
   "outputs": [
    {
     "data": {
      "text/plain": [
       "<AxesSubplot:>"
      ]
     },
     "execution_count": 50,
     "metadata": {},
     "output_type": "execute_result"
    },
    {
     "data": {
      "image/png": "[encoded data removed]",
      "text/plain": [
       "<Figure size 504x504 with 1 Axes>"
      ]
     },
     "metadata": {
      "needs_background": "light"
     },
     "output_type": "display_data"
    }
   ],
   "source": [
    "plt.figure(figsize = (7,7))\n",
    "sns.scatterplot(x=tsne_data[:,0],y=tsne_data[:,1])\n"
   ]
  }
 ],
 "metadata": {
  "colab": {
   "collapsed_sections": [
    "6KBFnS4-OPU_",
    "U_tVtTW0OPVB",
    "wUb9isjxOPVH",
    "2EfTVX4ZOPVS",
    "CrGqbeJDOPVU",
    "q6mt96cROPVW"
   ],
   "name": "Case Study - PCA and TSNE (1).ipynb",
   "provenance": []
  },
  "kernelspec": {
   "display_name": "Python 3 (ipykernel)",
   "language": "python",
   "name": "python3"
  },
  "language_info": {
   "codemirror_mode": {
    "name": "ipython",
    "version": 3
   },
   "file_extension": ".py",
   "mimetype": "text/x-python",
   "name": "python",
   "nbconvert_exporter": "python",
   "pygments_lexer": "ipython3",
   "version": "3.9.7"
  }
 },
 "nbformat": 4,
 "nbformat_minor": 1
}
